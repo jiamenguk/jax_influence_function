{
  "nbformat": 4,
  "nbformat_minor": 0,
  "metadata": {
    "colab": {
      "name": "influence_function.ipynb",
      "provenance": [],
      "collapsed_sections": [],
      "toc_visible": true
    },
    "kernelspec": {
      "name": "python3",
      "display_name": "Python 3"
    },
    "language_info": {
      "name": "python"
    },
    "accelerator": "GPU",
    "widgets": {
      "application/vnd.jupyter.widget-state+json": {
        "0c9c24dae0984712b2e262c14c04579f": {
          "model_module": "@jupyter-widgets/controls",
          "model_name": "HBoxModel",
          "state": {
            "_view_name": "HBoxView",
            "_dom_classes": [],
            "_model_name": "HBoxModel",
            "_view_module": "@jupyter-widgets/controls",
            "_model_module_version": "1.5.0",
            "_view_count": null,
            "_view_module_version": "1.5.0",
            "box_style": "",
            "layout": "IPY_MODEL_def7255490664fa28617a18d11bb7903",
            "_model_module": "@jupyter-widgets/controls",
            "children": [
              "IPY_MODEL_ee028cdfb9604595a714376e5a8e949c",
              "IPY_MODEL_8541c138ec7743e390b068e6932d7703"
            ]
          }
        },
        "def7255490664fa28617a18d11bb7903": {
          "model_module": "@jupyter-widgets/base",
          "model_name": "LayoutModel",
          "state": {
            "_view_name": "LayoutView",
            "grid_template_rows": null,
            "right": null,
            "justify_content": null,
            "_view_module": "@jupyter-widgets/base",
            "overflow": null,
            "_model_module_version": "1.2.0",
            "_view_count": null,
            "flex_flow": null,
            "width": null,
            "min_width": null,
            "border": null,
            "align_items": null,
            "bottom": null,
            "_model_module": "@jupyter-widgets/base",
            "top": null,
            "grid_column": null,
            "overflow_y": null,
            "overflow_x": null,
            "grid_auto_flow": null,
            "grid_area": null,
            "grid_template_columns": null,
            "flex": null,
            "_model_name": "LayoutModel",
            "justify_items": null,
            "grid_row": null,
            "max_height": null,
            "align_content": null,
            "visibility": null,
            "align_self": null,
            "height": null,
            "min_height": null,
            "padding": null,
            "grid_auto_rows": null,
            "grid_gap": null,
            "max_width": null,
            "order": null,
            "_view_module_version": "1.2.0",
            "grid_template_areas": null,
            "object_position": null,
            "object_fit": null,
            "grid_auto_columns": null,
            "margin": null,
            "display": null,
            "left": null
          }
        },
        "ee028cdfb9604595a714376e5a8e949c": {
          "model_module": "@jupyter-widgets/controls",
          "model_name": "FloatProgressModel",
          "state": {
            "_view_name": "ProgressView",
            "style": "IPY_MODEL_c2aa6451c1584192a3e7fc7a7a78d371",
            "_dom_classes": [],
            "description": "Downloading: 100%",
            "_model_name": "FloatProgressModel",
            "bar_style": "success",
            "max": 391,
            "_view_module": "@jupyter-widgets/controls",
            "_model_module_version": "1.5.0",
            "value": 391,
            "_view_count": null,
            "_view_module_version": "1.5.0",
            "orientation": "horizontal",
            "min": 0,
            "description_tooltip": null,
            "_model_module": "@jupyter-widgets/controls",
            "layout": "IPY_MODEL_ebe8c65e1d3f415788dcf4ca380a6233"
          }
        },
        "8541c138ec7743e390b068e6932d7703": {
          "model_module": "@jupyter-widgets/controls",
          "model_name": "HTMLModel",
          "state": {
            "_view_name": "HTMLView",
            "style": "IPY_MODEL_ea9e80196f784deda0189d0acaf62282",
            "_dom_classes": [],
            "description": "",
            "_model_name": "HTMLModel",
            "placeholder": "​",
            "_view_module": "@jupyter-widgets/controls",
            "_model_module_version": "1.5.0",
            "value": " 391/391 [00:07&lt;00:00, 54.0B/s]",
            "_view_count": null,
            "_view_module_version": "1.5.0",
            "description_tooltip": null,
            "_model_module": "@jupyter-widgets/controls",
            "layout": "IPY_MODEL_23b2c30ce57047e5bce4c0d9d8b9fae3"
          }
        },
        "c2aa6451c1584192a3e7fc7a7a78d371": {
          "model_module": "@jupyter-widgets/controls",
          "model_name": "ProgressStyleModel",
          "state": {
            "_view_name": "StyleView",
            "_model_name": "ProgressStyleModel",
            "description_width": "initial",
            "_view_module": "@jupyter-widgets/base",
            "_model_module_version": "1.5.0",
            "_view_count": null,
            "_view_module_version": "1.2.0",
            "bar_color": null,
            "_model_module": "@jupyter-widgets/controls"
          }
        },
        "ebe8c65e1d3f415788dcf4ca380a6233": {
          "model_module": "@jupyter-widgets/base",
          "model_name": "LayoutModel",
          "state": {
            "_view_name": "LayoutView",
            "grid_template_rows": null,
            "right": null,
            "justify_content": null,
            "_view_module": "@jupyter-widgets/base",
            "overflow": null,
            "_model_module_version": "1.2.0",
            "_view_count": null,
            "flex_flow": null,
            "width": null,
            "min_width": null,
            "border": null,
            "align_items": null,
            "bottom": null,
            "_model_module": "@jupyter-widgets/base",
            "top": null,
            "grid_column": null,
            "overflow_y": null,
            "overflow_x": null,
            "grid_auto_flow": null,
            "grid_area": null,
            "grid_template_columns": null,
            "flex": null,
            "_model_name": "LayoutModel",
            "justify_items": null,
            "grid_row": null,
            "max_height": null,
            "align_content": null,
            "visibility": null,
            "align_self": null,
            "height": null,
            "min_height": null,
            "padding": null,
            "grid_auto_rows": null,
            "grid_gap": null,
            "max_width": null,
            "order": null,
            "_view_module_version": "1.2.0",
            "grid_template_areas": null,
            "object_position": null,
            "object_fit": null,
            "grid_auto_columns": null,
            "margin": null,
            "display": null,
            "left": null
          }
        },
        "ea9e80196f784deda0189d0acaf62282": {
          "model_module": "@jupyter-widgets/controls",
          "model_name": "DescriptionStyleModel",
          "state": {
            "_view_name": "StyleView",
            "_model_name": "DescriptionStyleModel",
            "description_width": "",
            "_view_module": "@jupyter-widgets/base",
            "_model_module_version": "1.5.0",
            "_view_count": null,
            "_view_module_version": "1.2.0",
            "_model_module": "@jupyter-widgets/controls"
          }
        },
        "23b2c30ce57047e5bce4c0d9d8b9fae3": {
          "model_module": "@jupyter-widgets/base",
          "model_name": "LayoutModel",
          "state": {
            "_view_name": "LayoutView",
            "grid_template_rows": null,
            "right": null,
            "justify_content": null,
            "_view_module": "@jupyter-widgets/base",
            "overflow": null,
            "_model_module_version": "1.2.0",
            "_view_count": null,
            "flex_flow": null,
            "width": null,
            "min_width": null,
            "border": null,
            "align_items": null,
            "bottom": null,
            "_model_module": "@jupyter-widgets/base",
            "top": null,
            "grid_column": null,
            "overflow_y": null,
            "overflow_x": null,
            "grid_auto_flow": null,
            "grid_area": null,
            "grid_template_columns": null,
            "flex": null,
            "_model_name": "LayoutModel",
            "justify_items": null,
            "grid_row": null,
            "max_height": null,
            "align_content": null,
            "visibility": null,
            "align_self": null,
            "height": null,
            "min_height": null,
            "padding": null,
            "grid_auto_rows": null,
            "grid_gap": null,
            "max_width": null,
            "order": null,
            "_view_module_version": "1.2.0",
            "grid_template_areas": null,
            "object_position": null,
            "object_fit": null,
            "grid_auto_columns": null,
            "margin": null,
            "display": null,
            "left": null
          }
        },
        "3ec0e9bb848e4fa7bd11fd7f7790f925": {
          "model_module": "@jupyter-widgets/controls",
          "model_name": "HBoxModel",
          "state": {
            "_view_name": "HBoxView",
            "_dom_classes": [],
            "_model_name": "HBoxModel",
            "_view_module": "@jupyter-widgets/controls",
            "_model_module_version": "1.5.0",
            "_view_count": null,
            "_view_module_version": "1.5.0",
            "box_style": "",
            "layout": "IPY_MODEL_53bf94bbe79a4719942393e66a6a55d5",
            "_model_module": "@jupyter-widgets/controls",
            "children": [
              "IPY_MODEL_0b3fa0a6b9c44ef0a9d0743260772890",
              "IPY_MODEL_7da9194bd1334587ae00155c62801241"
            ]
          }
        },
        "53bf94bbe79a4719942393e66a6a55d5": {
          "model_module": "@jupyter-widgets/base",
          "model_name": "LayoutModel",
          "state": {
            "_view_name": "LayoutView",
            "grid_template_rows": null,
            "right": null,
            "justify_content": null,
            "_view_module": "@jupyter-widgets/base",
            "overflow": null,
            "_model_module_version": "1.2.0",
            "_view_count": null,
            "flex_flow": null,
            "width": null,
            "min_width": null,
            "border": null,
            "align_items": null,
            "bottom": null,
            "_model_module": "@jupyter-widgets/base",
            "top": null,
            "grid_column": null,
            "overflow_y": null,
            "overflow_x": null,
            "grid_auto_flow": null,
            "grid_area": null,
            "grid_template_columns": null,
            "flex": null,
            "_model_name": "LayoutModel",
            "justify_items": null,
            "grid_row": null,
            "max_height": null,
            "align_content": null,
            "visibility": null,
            "align_self": null,
            "height": null,
            "min_height": null,
            "padding": null,
            "grid_auto_rows": null,
            "grid_gap": null,
            "max_width": null,
            "order": null,
            "_view_module_version": "1.2.0",
            "grid_template_areas": null,
            "object_position": null,
            "object_fit": null,
            "grid_auto_columns": null,
            "margin": null,
            "display": null,
            "left": null
          }
        },
        "0b3fa0a6b9c44ef0a9d0743260772890": {
          "model_module": "@jupyter-widgets/controls",
          "model_name": "FloatProgressModel",
          "state": {
            "_view_name": "ProgressView",
            "style": "IPY_MODEL_f09670c45b16481e8c20bc6982d3ded5",
            "_dom_classes": [],
            "description": "Downloading: 100%",
            "_model_name": "FloatProgressModel",
            "bar_style": "success",
            "max": 3721,
            "_view_module": "@jupyter-widgets/controls",
            "_model_module_version": "1.5.0",
            "value": 3721,
            "_view_count": null,
            "_view_module_version": "1.5.0",
            "orientation": "horizontal",
            "min": 0,
            "description_tooltip": null,
            "_model_module": "@jupyter-widgets/controls",
            "layout": "IPY_MODEL_cddf317685dd428190eec9d73b6097b9"
          }
        },
        "7da9194bd1334587ae00155c62801241": {
          "model_module": "@jupyter-widgets/controls",
          "model_name": "HTMLModel",
          "state": {
            "_view_name": "HTMLView",
            "style": "IPY_MODEL_59782cc08eef41bf81af499c3de18b65",
            "_dom_classes": [],
            "description": "",
            "_model_name": "HTMLModel",
            "placeholder": "​",
            "_view_module": "@jupyter-widgets/controls",
            "_model_module_version": "1.5.0",
            "value": " 3.72k/3.72k [00:00&lt;00:00, 33.4kB/s]",
            "_view_count": null,
            "_view_module_version": "1.5.0",
            "description_tooltip": null,
            "_model_module": "@jupyter-widgets/controls",
            "layout": "IPY_MODEL_154d14721cd542539552cf317b96e253"
          }
        },
        "f09670c45b16481e8c20bc6982d3ded5": {
          "model_module": "@jupyter-widgets/controls",
          "model_name": "ProgressStyleModel",
          "state": {
            "_view_name": "StyleView",
            "_model_name": "ProgressStyleModel",
            "description_width": "initial",
            "_view_module": "@jupyter-widgets/base",
            "_model_module_version": "1.5.0",
            "_view_count": null,
            "_view_module_version": "1.2.0",
            "bar_color": null,
            "_model_module": "@jupyter-widgets/controls"
          }
        },
        "cddf317685dd428190eec9d73b6097b9": {
          "model_module": "@jupyter-widgets/base",
          "model_name": "LayoutModel",
          "state": {
            "_view_name": "LayoutView",
            "grid_template_rows": null,
            "right": null,
            "justify_content": null,
            "_view_module": "@jupyter-widgets/base",
            "overflow": null,
            "_model_module_version": "1.2.0",
            "_view_count": null,
            "flex_flow": null,
            "width": null,
            "min_width": null,
            "border": null,
            "align_items": null,
            "bottom": null,
            "_model_module": "@jupyter-widgets/base",
            "top": null,
            "grid_column": null,
            "overflow_y": null,
            "overflow_x": null,
            "grid_auto_flow": null,
            "grid_area": null,
            "grid_template_columns": null,
            "flex": null,
            "_model_name": "LayoutModel",
            "justify_items": null,
            "grid_row": null,
            "max_height": null,
            "align_content": null,
            "visibility": null,
            "align_self": null,
            "height": null,
            "min_height": null,
            "padding": null,
            "grid_auto_rows": null,
            "grid_gap": null,
            "max_width": null,
            "order": null,
            "_view_module_version": "1.2.0",
            "grid_template_areas": null,
            "object_position": null,
            "object_fit": null,
            "grid_auto_columns": null,
            "margin": null,
            "display": null,
            "left": null
          }
        },
        "59782cc08eef41bf81af499c3de18b65": {
          "model_module": "@jupyter-widgets/controls",
          "model_name": "DescriptionStyleModel",
          "state": {
            "_view_name": "StyleView",
            "_model_name": "DescriptionStyleModel",
            "description_width": "",
            "_view_module": "@jupyter-widgets/base",
            "_model_module_version": "1.5.0",
            "_view_count": null,
            "_view_module_version": "1.2.0",
            "_model_module": "@jupyter-widgets/controls"
          }
        },
        "154d14721cd542539552cf317b96e253": {
          "model_module": "@jupyter-widgets/base",
          "model_name": "LayoutModel",
          "state": {
            "_view_name": "LayoutView",
            "grid_template_rows": null,
            "right": null,
            "justify_content": null,
            "_view_module": "@jupyter-widgets/base",
            "overflow": null,
            "_model_module_version": "1.2.0",
            "_view_count": null,
            "flex_flow": null,
            "width": null,
            "min_width": null,
            "border": null,
            "align_items": null,
            "bottom": null,
            "_model_module": "@jupyter-widgets/base",
            "top": null,
            "grid_column": null,
            "overflow_y": null,
            "overflow_x": null,
            "grid_auto_flow": null,
            "grid_area": null,
            "grid_template_columns": null,
            "flex": null,
            "_model_name": "LayoutModel",
            "justify_items": null,
            "grid_row": null,
            "max_height": null,
            "align_content": null,
            "visibility": null,
            "align_self": null,
            "height": null,
            "min_height": null,
            "padding": null,
            "grid_auto_rows": null,
            "grid_gap": null,
            "max_width": null,
            "order": null,
            "_view_module_version": "1.2.0",
            "grid_template_areas": null,
            "object_position": null,
            "object_fit": null,
            "grid_auto_columns": null,
            "margin": null,
            "display": null,
            "left": null
          }
        },
        "8092a128a6c44c1a9bbcf016a5304fc0": {
          "model_module": "@jupyter-widgets/controls",
          "model_name": "HBoxModel",
          "state": {
            "_view_name": "HBoxView",
            "_dom_classes": [],
            "_model_name": "HBoxModel",
            "_view_module": "@jupyter-widgets/controls",
            "_model_module_version": "1.5.0",
            "_view_count": null,
            "_view_module_version": "1.5.0",
            "box_style": "",
            "layout": "IPY_MODEL_a9ee22617fe540008ffd16e554962b7e",
            "_model_module": "@jupyter-widgets/controls",
            "children": [
              "IPY_MODEL_f8c157189a214e29b8ba2811e522cd36",
              "IPY_MODEL_a1f14d112425403ab6efe3042746b58f"
            ]
          }
        },
        "a9ee22617fe540008ffd16e554962b7e": {
          "model_module": "@jupyter-widgets/base",
          "model_name": "LayoutModel",
          "state": {
            "_view_name": "LayoutView",
            "grid_template_rows": null,
            "right": null,
            "justify_content": null,
            "_view_module": "@jupyter-widgets/base",
            "overflow": null,
            "_model_module_version": "1.2.0",
            "_view_count": null,
            "flex_flow": null,
            "width": null,
            "min_width": null,
            "border": null,
            "align_items": null,
            "bottom": null,
            "_model_module": "@jupyter-widgets/base",
            "top": null,
            "grid_column": null,
            "overflow_y": null,
            "overflow_x": null,
            "grid_auto_flow": null,
            "grid_area": null,
            "grid_template_columns": null,
            "flex": null,
            "_model_name": "LayoutModel",
            "justify_items": null,
            "grid_row": null,
            "max_height": null,
            "align_content": null,
            "visibility": null,
            "align_self": null,
            "height": null,
            "min_height": null,
            "padding": null,
            "grid_auto_rows": null,
            "grid_gap": null,
            "max_width": null,
            "order": null,
            "_view_module_version": "1.2.0",
            "grid_template_areas": null,
            "object_position": null,
            "object_fit": null,
            "grid_auto_columns": null,
            "margin": null,
            "display": null,
            "left": null
          }
        },
        "f8c157189a214e29b8ba2811e522cd36": {
          "model_module": "@jupyter-widgets/controls",
          "model_name": "FloatProgressModel",
          "state": {
            "_view_name": "ProgressView",
            "style": "IPY_MODEL_19e433b22bfa42148b8d64fc6a5c859c",
            "_dom_classes": [],
            "description": "Downloading: 100%",
            "_model_name": "FloatProgressModel",
            "bar_style": "success",
            "max": 718,
            "_view_module": "@jupyter-widgets/controls",
            "_model_module_version": "1.5.0",
            "value": 718,
            "_view_count": null,
            "_view_module_version": "1.5.0",
            "orientation": "horizontal",
            "min": 0,
            "description_tooltip": null,
            "_model_module": "@jupyter-widgets/controls",
            "layout": "IPY_MODEL_6e9a4aa529be4ae9aed536fb9b5a6679"
          }
        },
        "a1f14d112425403ab6efe3042746b58f": {
          "model_module": "@jupyter-widgets/controls",
          "model_name": "HTMLModel",
          "state": {
            "_view_name": "HTMLView",
            "style": "IPY_MODEL_076a5ff1329c43ddaaac2bdb614bef7b",
            "_dom_classes": [],
            "description": "",
            "_model_name": "HTMLModel",
            "placeholder": "​",
            "_view_module": "@jupyter-widgets/controls",
            "_model_module_version": "1.5.0",
            "value": " 718/718 [00:07&lt;00:00, 102B/s]",
            "_view_count": null,
            "_view_module_version": "1.5.0",
            "description_tooltip": null,
            "_model_module": "@jupyter-widgets/controls",
            "layout": "IPY_MODEL_3a814ee534424ab5b47f61cec342c963"
          }
        },
        "19e433b22bfa42148b8d64fc6a5c859c": {
          "model_module": "@jupyter-widgets/controls",
          "model_name": "ProgressStyleModel",
          "state": {
            "_view_name": "StyleView",
            "_model_name": "ProgressStyleModel",
            "description_width": "initial",
            "_view_module": "@jupyter-widgets/base",
            "_model_module_version": "1.5.0",
            "_view_count": null,
            "_view_module_version": "1.2.0",
            "bar_color": null,
            "_model_module": "@jupyter-widgets/controls"
          }
        },
        "6e9a4aa529be4ae9aed536fb9b5a6679": {
          "model_module": "@jupyter-widgets/base",
          "model_name": "LayoutModel",
          "state": {
            "_view_name": "LayoutView",
            "grid_template_rows": null,
            "right": null,
            "justify_content": null,
            "_view_module": "@jupyter-widgets/base",
            "overflow": null,
            "_model_module_version": "1.2.0",
            "_view_count": null,
            "flex_flow": null,
            "width": null,
            "min_width": null,
            "border": null,
            "align_items": null,
            "bottom": null,
            "_model_module": "@jupyter-widgets/base",
            "top": null,
            "grid_column": null,
            "overflow_y": null,
            "overflow_x": null,
            "grid_auto_flow": null,
            "grid_area": null,
            "grid_template_columns": null,
            "flex": null,
            "_model_name": "LayoutModel",
            "justify_items": null,
            "grid_row": null,
            "max_height": null,
            "align_content": null,
            "visibility": null,
            "align_self": null,
            "height": null,
            "min_height": null,
            "padding": null,
            "grid_auto_rows": null,
            "grid_gap": null,
            "max_width": null,
            "order": null,
            "_view_module_version": "1.2.0",
            "grid_template_areas": null,
            "object_position": null,
            "object_fit": null,
            "grid_auto_columns": null,
            "margin": null,
            "display": null,
            "left": null
          }
        },
        "076a5ff1329c43ddaaac2bdb614bef7b": {
          "model_module": "@jupyter-widgets/controls",
          "model_name": "DescriptionStyleModel",
          "state": {
            "_view_name": "StyleView",
            "_model_name": "DescriptionStyleModel",
            "description_width": "",
            "_view_module": "@jupyter-widgets/base",
            "_model_module_version": "1.5.0",
            "_view_count": null,
            "_view_module_version": "1.2.0",
            "_model_module": "@jupyter-widgets/controls"
          }
        },
        "3a814ee534424ab5b47f61cec342c963": {
          "model_module": "@jupyter-widgets/base",
          "model_name": "LayoutModel",
          "state": {
            "_view_name": "LayoutView",
            "grid_template_rows": null,
            "right": null,
            "justify_content": null,
            "_view_module": "@jupyter-widgets/base",
            "overflow": null,
            "_model_module_version": "1.2.0",
            "_view_count": null,
            "flex_flow": null,
            "width": null,
            "min_width": null,
            "border": null,
            "align_items": null,
            "bottom": null,
            "_model_module": "@jupyter-widgets/base",
            "top": null,
            "grid_column": null,
            "overflow_y": null,
            "overflow_x": null,
            "grid_auto_flow": null,
            "grid_area": null,
            "grid_template_columns": null,
            "flex": null,
            "_model_name": "LayoutModel",
            "justify_items": null,
            "grid_row": null,
            "max_height": null,
            "align_content": null,
            "visibility": null,
            "align_self": null,
            "height": null,
            "min_height": null,
            "padding": null,
            "grid_auto_rows": null,
            "grid_gap": null,
            "max_width": null,
            "order": null,
            "_view_module_version": "1.2.0",
            "grid_template_areas": null,
            "object_position": null,
            "object_fit": null,
            "grid_auto_columns": null,
            "margin": null,
            "display": null,
            "left": null
          }
        },
        "c7d8eebc77f841d38b93567c31bfef88": {
          "model_module": "@jupyter-widgets/controls",
          "model_name": "HBoxModel",
          "state": {
            "_view_name": "HBoxView",
            "_dom_classes": [],
            "_model_name": "HBoxModel",
            "_view_module": "@jupyter-widgets/controls",
            "_model_module_version": "1.5.0",
            "_view_count": null,
            "_view_module_version": "1.5.0",
            "box_style": "",
            "layout": "IPY_MODEL_0dcf705dd0a54674a1655e00cf7a7be8",
            "_model_module": "@jupyter-widgets/controls",
            "children": [
              "IPY_MODEL_95b1de9592074253b21877b10984a100",
              "IPY_MODEL_90ab5fff66284a31ae6465b8009e64b9"
            ]
          }
        },
        "0dcf705dd0a54674a1655e00cf7a7be8": {
          "model_module": "@jupyter-widgets/base",
          "model_name": "LayoutModel",
          "state": {
            "_view_name": "LayoutView",
            "grid_template_rows": null,
            "right": null,
            "justify_content": null,
            "_view_module": "@jupyter-widgets/base",
            "overflow": null,
            "_model_module_version": "1.2.0",
            "_view_count": null,
            "flex_flow": null,
            "width": null,
            "min_width": null,
            "border": null,
            "align_items": null,
            "bottom": null,
            "_model_module": "@jupyter-widgets/base",
            "top": null,
            "grid_column": null,
            "overflow_y": null,
            "overflow_x": null,
            "grid_auto_flow": null,
            "grid_area": null,
            "grid_template_columns": null,
            "flex": null,
            "_model_name": "LayoutModel",
            "justify_items": null,
            "grid_row": null,
            "max_height": null,
            "align_content": null,
            "visibility": null,
            "align_self": null,
            "height": null,
            "min_height": null,
            "padding": null,
            "grid_auto_rows": null,
            "grid_gap": null,
            "max_width": null,
            "order": null,
            "_view_module_version": "1.2.0",
            "grid_template_areas": null,
            "object_position": null,
            "object_fit": null,
            "grid_auto_columns": null,
            "margin": null,
            "display": null,
            "left": null
          }
        },
        "95b1de9592074253b21877b10984a100": {
          "model_module": "@jupyter-widgets/controls",
          "model_name": "FloatProgressModel",
          "state": {
            "_view_name": "ProgressView",
            "style": "IPY_MODEL_12fbe2e754564c7c87531ee455dafc9d",
            "_dom_classes": [],
            "description": "Downloading: 100%",
            "_model_name": "FloatProgressModel",
            "bar_style": "success",
            "max": 122,
            "_view_module": "@jupyter-widgets/controls",
            "_model_module_version": "1.5.0",
            "value": 122,
            "_view_count": null,
            "_view_module_version": "1.5.0",
            "orientation": "horizontal",
            "min": 0,
            "description_tooltip": null,
            "_model_module": "@jupyter-widgets/controls",
            "layout": "IPY_MODEL_815db26360a14132a082be17dc17cd22"
          }
        },
        "90ab5fff66284a31ae6465b8009e64b9": {
          "model_module": "@jupyter-widgets/controls",
          "model_name": "HTMLModel",
          "state": {
            "_view_name": "HTMLView",
            "style": "IPY_MODEL_2d979a2a8aba45ce82ed609b6c6fbdf5",
            "_dom_classes": [],
            "description": "",
            "_model_name": "HTMLModel",
            "placeholder": "​",
            "_view_module": "@jupyter-widgets/controls",
            "_model_module_version": "1.5.0",
            "value": " 122/122 [00:00&lt;00:00, 985B/s]",
            "_view_count": null,
            "_view_module_version": "1.5.0",
            "description_tooltip": null,
            "_model_module": "@jupyter-widgets/controls",
            "layout": "IPY_MODEL_3fbda1f6e31048dabeefc595589afde7"
          }
        },
        "12fbe2e754564c7c87531ee455dafc9d": {
          "model_module": "@jupyter-widgets/controls",
          "model_name": "ProgressStyleModel",
          "state": {
            "_view_name": "StyleView",
            "_model_name": "ProgressStyleModel",
            "description_width": "initial",
            "_view_module": "@jupyter-widgets/base",
            "_model_module_version": "1.5.0",
            "_view_count": null,
            "_view_module_version": "1.2.0",
            "bar_color": null,
            "_model_module": "@jupyter-widgets/controls"
          }
        },
        "815db26360a14132a082be17dc17cd22": {
          "model_module": "@jupyter-widgets/base",
          "model_name": "LayoutModel",
          "state": {
            "_view_name": "LayoutView",
            "grid_template_rows": null,
            "right": null,
            "justify_content": null,
            "_view_module": "@jupyter-widgets/base",
            "overflow": null,
            "_model_module_version": "1.2.0",
            "_view_count": null,
            "flex_flow": null,
            "width": null,
            "min_width": null,
            "border": null,
            "align_items": null,
            "bottom": null,
            "_model_module": "@jupyter-widgets/base",
            "top": null,
            "grid_column": null,
            "overflow_y": null,
            "overflow_x": null,
            "grid_auto_flow": null,
            "grid_area": null,
            "grid_template_columns": null,
            "flex": null,
            "_model_name": "LayoutModel",
            "justify_items": null,
            "grid_row": null,
            "max_height": null,
            "align_content": null,
            "visibility": null,
            "align_self": null,
            "height": null,
            "min_height": null,
            "padding": null,
            "grid_auto_rows": null,
            "grid_gap": null,
            "max_width": null,
            "order": null,
            "_view_module_version": "1.2.0",
            "grid_template_areas": null,
            "object_position": null,
            "object_fit": null,
            "grid_auto_columns": null,
            "margin": null,
            "display": null,
            "left": null
          }
        },
        "2d979a2a8aba45ce82ed609b6c6fbdf5": {
          "model_module": "@jupyter-widgets/controls",
          "model_name": "DescriptionStyleModel",
          "state": {
            "_view_name": "StyleView",
            "_model_name": "DescriptionStyleModel",
            "description_width": "",
            "_view_module": "@jupyter-widgets/base",
            "_model_module_version": "1.5.0",
            "_view_count": null,
            "_view_module_version": "1.2.0",
            "_model_module": "@jupyter-widgets/controls"
          }
        },
        "3fbda1f6e31048dabeefc595589afde7": {
          "model_module": "@jupyter-widgets/base",
          "model_name": "LayoutModel",
          "state": {
            "_view_name": "LayoutView",
            "grid_template_rows": null,
            "right": null,
            "justify_content": null,
            "_view_module": "@jupyter-widgets/base",
            "overflow": null,
            "_model_module_version": "1.2.0",
            "_view_count": null,
            "flex_flow": null,
            "width": null,
            "min_width": null,
            "border": null,
            "align_items": null,
            "bottom": null,
            "_model_module": "@jupyter-widgets/base",
            "top": null,
            "grid_column": null,
            "overflow_y": null,
            "overflow_x": null,
            "grid_auto_flow": null,
            "grid_area": null,
            "grid_template_columns": null,
            "flex": null,
            "_model_name": "LayoutModel",
            "justify_items": null,
            "grid_row": null,
            "max_height": null,
            "align_content": null,
            "visibility": null,
            "align_self": null,
            "height": null,
            "min_height": null,
            "padding": null,
            "grid_auto_rows": null,
            "grid_gap": null,
            "max_width": null,
            "order": null,
            "_view_module_version": "1.2.0",
            "grid_template_areas": null,
            "object_position": null,
            "object_fit": null,
            "grid_auto_columns": null,
            "margin": null,
            "display": null,
            "left": null
          }
        },
        "02adb55303f746f58e98516fe65b246c": {
          "model_module": "@jupyter-widgets/controls",
          "model_name": "HBoxModel",
          "state": {
            "_view_name": "HBoxView",
            "_dom_classes": [],
            "_model_name": "HBoxModel",
            "_view_module": "@jupyter-widgets/controls",
            "_model_module_version": "1.5.0",
            "_view_count": null,
            "_view_module_version": "1.5.0",
            "box_style": "",
            "layout": "IPY_MODEL_ce2a0502877e4ce79fd2a06bba9d0005",
            "_model_module": "@jupyter-widgets/controls",
            "children": [
              "IPY_MODEL_d62c1bd101384474ac88202acc6da50b",
              "IPY_MODEL_ffbbdc8511c043a9a15c6317abe4e7e9"
            ]
          }
        },
        "ce2a0502877e4ce79fd2a06bba9d0005": {
          "model_module": "@jupyter-widgets/base",
          "model_name": "LayoutModel",
          "state": {
            "_view_name": "LayoutView",
            "grid_template_rows": null,
            "right": null,
            "justify_content": null,
            "_view_module": "@jupyter-widgets/base",
            "overflow": null,
            "_model_module_version": "1.2.0",
            "_view_count": null,
            "flex_flow": null,
            "width": null,
            "min_width": null,
            "border": null,
            "align_items": null,
            "bottom": null,
            "_model_module": "@jupyter-widgets/base",
            "top": null,
            "grid_column": null,
            "overflow_y": null,
            "overflow_x": null,
            "grid_auto_flow": null,
            "grid_area": null,
            "grid_template_columns": null,
            "flex": null,
            "_model_name": "LayoutModel",
            "justify_items": null,
            "grid_row": null,
            "max_height": null,
            "align_content": null,
            "visibility": null,
            "align_self": null,
            "height": null,
            "min_height": null,
            "padding": null,
            "grid_auto_rows": null,
            "grid_gap": null,
            "max_width": null,
            "order": null,
            "_view_module_version": "1.2.0",
            "grid_template_areas": null,
            "object_position": null,
            "object_fit": null,
            "grid_auto_columns": null,
            "margin": null,
            "display": null,
            "left": null
          }
        },
        "d62c1bd101384474ac88202acc6da50b": {
          "model_module": "@jupyter-widgets/controls",
          "model_name": "FloatProgressModel",
          "state": {
            "_view_name": "ProgressView",
            "style": "IPY_MODEL_ce1823d5579144488ac495cf934d1df0",
            "_dom_classes": [],
            "description": "Downloading: 100%",
            "_model_name": "FloatProgressModel",
            "bar_style": "success",
            "max": 456356,
            "_view_module": "@jupyter-widgets/controls",
            "_model_module_version": "1.5.0",
            "value": 456356,
            "_view_count": null,
            "_view_module_version": "1.5.0",
            "orientation": "horizontal",
            "min": 0,
            "description_tooltip": null,
            "_model_module": "@jupyter-widgets/controls",
            "layout": "IPY_MODEL_f0a7cd80919646fea706a03f3a7ebe2a"
          }
        },
        "ffbbdc8511c043a9a15c6317abe4e7e9": {
          "model_module": "@jupyter-widgets/controls",
          "model_name": "HTMLModel",
          "state": {
            "_view_name": "HTMLView",
            "style": "IPY_MODEL_930974c6a485436a8bf186b5b5b90837",
            "_dom_classes": [],
            "description": "",
            "_model_name": "HTMLModel",
            "placeholder": "​",
            "_view_module": "@jupyter-widgets/controls",
            "_model_module_version": "1.5.0",
            "value": " 456k/456k [00:06&lt;00:00, 66.6kB/s]",
            "_view_count": null,
            "_view_module_version": "1.5.0",
            "description_tooltip": null,
            "_model_module": "@jupyter-widgets/controls",
            "layout": "IPY_MODEL_4558536a730a425fa9e9523c689ce253"
          }
        },
        "ce1823d5579144488ac495cf934d1df0": {
          "model_module": "@jupyter-widgets/controls",
          "model_name": "ProgressStyleModel",
          "state": {
            "_view_name": "StyleView",
            "_model_name": "ProgressStyleModel",
            "description_width": "initial",
            "_view_module": "@jupyter-widgets/base",
            "_model_module_version": "1.5.0",
            "_view_count": null,
            "_view_module_version": "1.2.0",
            "bar_color": null,
            "_model_module": "@jupyter-widgets/controls"
          }
        },
        "f0a7cd80919646fea706a03f3a7ebe2a": {
          "model_module": "@jupyter-widgets/base",
          "model_name": "LayoutModel",
          "state": {
            "_view_name": "LayoutView",
            "grid_template_rows": null,
            "right": null,
            "justify_content": null,
            "_view_module": "@jupyter-widgets/base",
            "overflow": null,
            "_model_module_version": "1.2.0",
            "_view_count": null,
            "flex_flow": null,
            "width": null,
            "min_width": null,
            "border": null,
            "align_items": null,
            "bottom": null,
            "_model_module": "@jupyter-widgets/base",
            "top": null,
            "grid_column": null,
            "overflow_y": null,
            "overflow_x": null,
            "grid_auto_flow": null,
            "grid_area": null,
            "grid_template_columns": null,
            "flex": null,
            "_model_name": "LayoutModel",
            "justify_items": null,
            "grid_row": null,
            "max_height": null,
            "align_content": null,
            "visibility": null,
            "align_self": null,
            "height": null,
            "min_height": null,
            "padding": null,
            "grid_auto_rows": null,
            "grid_gap": null,
            "max_width": null,
            "order": null,
            "_view_module_version": "1.2.0",
            "grid_template_areas": null,
            "object_position": null,
            "object_fit": null,
            "grid_auto_columns": null,
            "margin": null,
            "display": null,
            "left": null
          }
        },
        "930974c6a485436a8bf186b5b5b90837": {
          "model_module": "@jupyter-widgets/controls",
          "model_name": "DescriptionStyleModel",
          "state": {
            "_view_name": "StyleView",
            "_model_name": "DescriptionStyleModel",
            "description_width": "",
            "_view_module": "@jupyter-widgets/base",
            "_model_module_version": "1.5.0",
            "_view_count": null,
            "_view_module_version": "1.2.0",
            "_model_module": "@jupyter-widgets/controls"
          }
        },
        "4558536a730a425fa9e9523c689ce253": {
          "model_module": "@jupyter-widgets/base",
          "model_name": "LayoutModel",
          "state": {
            "_view_name": "LayoutView",
            "grid_template_rows": null,
            "right": null,
            "justify_content": null,
            "_view_module": "@jupyter-widgets/base",
            "overflow": null,
            "_model_module_version": "1.2.0",
            "_view_count": null,
            "flex_flow": null,
            "width": null,
            "min_width": null,
            "border": null,
            "align_items": null,
            "bottom": null,
            "_model_module": "@jupyter-widgets/base",
            "top": null,
            "grid_column": null,
            "overflow_y": null,
            "overflow_x": null,
            "grid_auto_flow": null,
            "grid_area": null,
            "grid_template_columns": null,
            "flex": null,
            "_model_name": "LayoutModel",
            "justify_items": null,
            "grid_row": null,
            "max_height": null,
            "align_content": null,
            "visibility": null,
            "align_self": null,
            "height": null,
            "min_height": null,
            "padding": null,
            "grid_auto_rows": null,
            "grid_gap": null,
            "max_width": null,
            "order": null,
            "_view_module_version": "1.2.0",
            "grid_template_areas": null,
            "object_position": null,
            "object_fit": null,
            "grid_auto_columns": null,
            "margin": null,
            "display": null,
            "left": null
          }
        },
        "e06af2d4f82448d08a47abfa974f1bdb": {
          "model_module": "@jupyter-widgets/controls",
          "model_name": "HBoxModel",
          "state": {
            "_view_name": "HBoxView",
            "_dom_classes": [],
            "_model_name": "HBoxModel",
            "_view_module": "@jupyter-widgets/controls",
            "_model_module_version": "1.5.0",
            "_view_count": null,
            "_view_module_version": "1.5.0",
            "box_style": "",
            "layout": "IPY_MODEL_110e18d7865245ceab5ff330f15a1f3d",
            "_model_module": "@jupyter-widgets/controls",
            "children": [
              "IPY_MODEL_260a3e14dfc44fc897a319f19c1836bc",
              "IPY_MODEL_32eaabb51954495887a4b353bb6a624e"
            ]
          }
        },
        "110e18d7865245ceab5ff330f15a1f3d": {
          "model_module": "@jupyter-widgets/base",
          "model_name": "LayoutModel",
          "state": {
            "_view_name": "LayoutView",
            "grid_template_rows": null,
            "right": null,
            "justify_content": null,
            "_view_module": "@jupyter-widgets/base",
            "overflow": null,
            "_model_module_version": "1.2.0",
            "_view_count": null,
            "flex_flow": null,
            "width": null,
            "min_width": null,
            "border": null,
            "align_items": null,
            "bottom": null,
            "_model_module": "@jupyter-widgets/base",
            "top": null,
            "grid_column": null,
            "overflow_y": null,
            "overflow_x": null,
            "grid_auto_flow": null,
            "grid_area": null,
            "grid_template_columns": null,
            "flex": null,
            "_model_name": "LayoutModel",
            "justify_items": null,
            "grid_row": null,
            "max_height": null,
            "align_content": null,
            "visibility": null,
            "align_self": null,
            "height": null,
            "min_height": null,
            "padding": null,
            "grid_auto_rows": null,
            "grid_gap": null,
            "max_width": null,
            "order": null,
            "_view_module_version": "1.2.0",
            "grid_template_areas": null,
            "object_position": null,
            "object_fit": null,
            "grid_auto_columns": null,
            "margin": null,
            "display": null,
            "left": null
          }
        },
        "260a3e14dfc44fc897a319f19c1836bc": {
          "model_module": "@jupyter-widgets/controls",
          "model_name": "FloatProgressModel",
          "state": {
            "_view_name": "ProgressView",
            "style": "IPY_MODEL_fa4b15667ac242d684ce86f2bdb32285",
            "_dom_classes": [],
            "description": "Downloading: 100%",
            "_model_name": "FloatProgressModel",
            "bar_style": "success",
            "max": 229,
            "_view_module": "@jupyter-widgets/controls",
            "_model_module_version": "1.5.0",
            "value": 229,
            "_view_count": null,
            "_view_module_version": "1.5.0",
            "orientation": "horizontal",
            "min": 0,
            "description_tooltip": null,
            "_model_module": "@jupyter-widgets/controls",
            "layout": "IPY_MODEL_33a74d63df9747e298adfe7b1145ded7"
          }
        },
        "32eaabb51954495887a4b353bb6a624e": {
          "model_module": "@jupyter-widgets/controls",
          "model_name": "HTMLModel",
          "state": {
            "_view_name": "HTMLView",
            "style": "IPY_MODEL_4fd753f7b18c44a88afdfb70418e1d93",
            "_dom_classes": [],
            "description": "",
            "_model_name": "HTMLModel",
            "placeholder": "​",
            "_view_module": "@jupyter-widgets/controls",
            "_model_module_version": "1.5.0",
            "value": " 229/229 [00:06&lt;00:00, 34.0B/s]",
            "_view_count": null,
            "_view_module_version": "1.5.0",
            "description_tooltip": null,
            "_model_module": "@jupyter-widgets/controls",
            "layout": "IPY_MODEL_5aa55c31e3bc4680862b02164cec4da3"
          }
        },
        "fa4b15667ac242d684ce86f2bdb32285": {
          "model_module": "@jupyter-widgets/controls",
          "model_name": "ProgressStyleModel",
          "state": {
            "_view_name": "StyleView",
            "_model_name": "ProgressStyleModel",
            "description_width": "initial",
            "_view_module": "@jupyter-widgets/base",
            "_model_module_version": "1.5.0",
            "_view_count": null,
            "_view_module_version": "1.2.0",
            "bar_color": null,
            "_model_module": "@jupyter-widgets/controls"
          }
        },
        "33a74d63df9747e298adfe7b1145ded7": {
          "model_module": "@jupyter-widgets/base",
          "model_name": "LayoutModel",
          "state": {
            "_view_name": "LayoutView",
            "grid_template_rows": null,
            "right": null,
            "justify_content": null,
            "_view_module": "@jupyter-widgets/base",
            "overflow": null,
            "_model_module_version": "1.2.0",
            "_view_count": null,
            "flex_flow": null,
            "width": null,
            "min_width": null,
            "border": null,
            "align_items": null,
            "bottom": null,
            "_model_module": "@jupyter-widgets/base",
            "top": null,
            "grid_column": null,
            "overflow_y": null,
            "overflow_x": null,
            "grid_auto_flow": null,
            "grid_area": null,
            "grid_template_columns": null,
            "flex": null,
            "_model_name": "LayoutModel",
            "justify_items": null,
            "grid_row": null,
            "max_height": null,
            "align_content": null,
            "visibility": null,
            "align_self": null,
            "height": null,
            "min_height": null,
            "padding": null,
            "grid_auto_rows": null,
            "grid_gap": null,
            "max_width": null,
            "order": null,
            "_view_module_version": "1.2.0",
            "grid_template_areas": null,
            "object_position": null,
            "object_fit": null,
            "grid_auto_columns": null,
            "margin": null,
            "display": null,
            "left": null
          }
        },
        "4fd753f7b18c44a88afdfb70418e1d93": {
          "model_module": "@jupyter-widgets/controls",
          "model_name": "DescriptionStyleModel",
          "state": {
            "_view_name": "StyleView",
            "_model_name": "DescriptionStyleModel",
            "description_width": "",
            "_view_module": "@jupyter-widgets/base",
            "_model_module_version": "1.5.0",
            "_view_count": null,
            "_view_module_version": "1.2.0",
            "_model_module": "@jupyter-widgets/controls"
          }
        },
        "5aa55c31e3bc4680862b02164cec4da3": {
          "model_module": "@jupyter-widgets/base",
          "model_name": "LayoutModel",
          "state": {
            "_view_name": "LayoutView",
            "grid_template_rows": null,
            "right": null,
            "justify_content": null,
            "_view_module": "@jupyter-widgets/base",
            "overflow": null,
            "_model_module_version": "1.2.0",
            "_view_count": null,
            "flex_flow": null,
            "width": null,
            "min_width": null,
            "border": null,
            "align_items": null,
            "bottom": null,
            "_model_module": "@jupyter-widgets/base",
            "top": null,
            "grid_column": null,
            "overflow_y": null,
            "overflow_x": null,
            "grid_auto_flow": null,
            "grid_area": null,
            "grid_template_columns": null,
            "flex": null,
            "_model_name": "LayoutModel",
            "justify_items": null,
            "grid_row": null,
            "max_height": null,
            "align_content": null,
            "visibility": null,
            "align_self": null,
            "height": null,
            "min_height": null,
            "padding": null,
            "grid_auto_rows": null,
            "grid_gap": null,
            "max_width": null,
            "order": null,
            "_view_module_version": "1.2.0",
            "grid_template_areas": null,
            "object_position": null,
            "object_fit": null,
            "grid_auto_columns": null,
            "margin": null,
            "display": null,
            "left": null
          }
        },
        "e1c3c5b345614499b536d26319cdd80c": {
          "model_module": "@jupyter-widgets/controls",
          "model_name": "HBoxModel",
          "state": {
            "_view_name": "HBoxView",
            "_dom_classes": [],
            "_model_name": "HBoxModel",
            "_view_module": "@jupyter-widgets/controls",
            "_model_module_version": "1.5.0",
            "_view_count": null,
            "_view_module_version": "1.5.0",
            "box_style": "",
            "layout": "IPY_MODEL_f8b0a1b029a54ec49b65b294dc225bd7",
            "_model_module": "@jupyter-widgets/controls",
            "children": [
              "IPY_MODEL_d2417ec0f0134e58ac75077ab6bd5298",
              "IPY_MODEL_0c2965deea7e4280bb95e211832864e2"
            ]
          }
        },
        "f8b0a1b029a54ec49b65b294dc225bd7": {
          "model_module": "@jupyter-widgets/base",
          "model_name": "LayoutModel",
          "state": {
            "_view_name": "LayoutView",
            "grid_template_rows": null,
            "right": null,
            "justify_content": null,
            "_view_module": "@jupyter-widgets/base",
            "overflow": null,
            "_model_module_version": "1.2.0",
            "_view_count": null,
            "flex_flow": null,
            "width": null,
            "min_width": null,
            "border": null,
            "align_items": null,
            "bottom": null,
            "_model_module": "@jupyter-widgets/base",
            "top": null,
            "grid_column": null,
            "overflow_y": null,
            "overflow_x": null,
            "grid_auto_flow": null,
            "grid_area": null,
            "grid_template_columns": null,
            "flex": null,
            "_model_name": "LayoutModel",
            "justify_items": null,
            "grid_row": null,
            "max_height": null,
            "align_content": null,
            "visibility": null,
            "align_self": null,
            "height": null,
            "min_height": null,
            "padding": null,
            "grid_auto_rows": null,
            "grid_gap": null,
            "max_width": null,
            "order": null,
            "_view_module_version": "1.2.0",
            "grid_template_areas": null,
            "object_position": null,
            "object_fit": null,
            "grid_auto_columns": null,
            "margin": null,
            "display": null,
            "left": null
          }
        },
        "d2417ec0f0134e58ac75077ab6bd5298": {
          "model_module": "@jupyter-widgets/controls",
          "model_name": "FloatProgressModel",
          "state": {
            "_view_name": "ProgressView",
            "style": "IPY_MODEL_f31afb4fc24f4320b95d24022479147d",
            "_dom_classes": [],
            "description": "Downloading: 100%",
            "_model_name": "FloatProgressModel",
            "bar_style": "success",
            "max": 328515953,
            "_view_module": "@jupyter-widgets/controls",
            "_model_module_version": "1.5.0",
            "value": 328515953,
            "_view_count": null,
            "_view_module_version": "1.5.0",
            "orientation": "horizontal",
            "min": 0,
            "description_tooltip": null,
            "_model_module": "@jupyter-widgets/controls",
            "layout": "IPY_MODEL_798e49227e044e8eb35b3662cd0616a9"
          }
        },
        "0c2965deea7e4280bb95e211832864e2": {
          "model_module": "@jupyter-widgets/controls",
          "model_name": "HTMLModel",
          "state": {
            "_view_name": "HTMLView",
            "style": "IPY_MODEL_485a7a0d949149e984c7126100478ed8",
            "_dom_classes": [],
            "description": "",
            "_model_name": "HTMLModel",
            "placeholder": "​",
            "_view_module": "@jupyter-widgets/controls",
            "_model_module_version": "1.5.0",
            "value": " 329M/329M [00:06&lt;00:00, 50.2MB/s]",
            "_view_count": null,
            "_view_module_version": "1.5.0",
            "description_tooltip": null,
            "_model_module": "@jupyter-widgets/controls",
            "layout": "IPY_MODEL_d9b646f129a94bc3b44a2b18fd9ca25b"
          }
        },
        "f31afb4fc24f4320b95d24022479147d": {
          "model_module": "@jupyter-widgets/controls",
          "model_name": "ProgressStyleModel",
          "state": {
            "_view_name": "StyleView",
            "_model_name": "ProgressStyleModel",
            "description_width": "initial",
            "_view_module": "@jupyter-widgets/base",
            "_model_module_version": "1.5.0",
            "_view_count": null,
            "_view_module_version": "1.2.0",
            "bar_color": null,
            "_model_module": "@jupyter-widgets/controls"
          }
        },
        "798e49227e044e8eb35b3662cd0616a9": {
          "model_module": "@jupyter-widgets/base",
          "model_name": "LayoutModel",
          "state": {
            "_view_name": "LayoutView",
            "grid_template_rows": null,
            "right": null,
            "justify_content": null,
            "_view_module": "@jupyter-widgets/base",
            "overflow": null,
            "_model_module_version": "1.2.0",
            "_view_count": null,
            "flex_flow": null,
            "width": null,
            "min_width": null,
            "border": null,
            "align_items": null,
            "bottom": null,
            "_model_module": "@jupyter-widgets/base",
            "top": null,
            "grid_column": null,
            "overflow_y": null,
            "overflow_x": null,
            "grid_auto_flow": null,
            "grid_area": null,
            "grid_template_columns": null,
            "flex": null,
            "_model_name": "LayoutModel",
            "justify_items": null,
            "grid_row": null,
            "max_height": null,
            "align_content": null,
            "visibility": null,
            "align_self": null,
            "height": null,
            "min_height": null,
            "padding": null,
            "grid_auto_rows": null,
            "grid_gap": null,
            "max_width": null,
            "order": null,
            "_view_module_version": "1.2.0",
            "grid_template_areas": null,
            "object_position": null,
            "object_fit": null,
            "grid_auto_columns": null,
            "margin": null,
            "display": null,
            "left": null
          }
        },
        "485a7a0d949149e984c7126100478ed8": {
          "model_module": "@jupyter-widgets/controls",
          "model_name": "DescriptionStyleModel",
          "state": {
            "_view_name": "StyleView",
            "_model_name": "DescriptionStyleModel",
            "description_width": "",
            "_view_module": "@jupyter-widgets/base",
            "_model_module_version": "1.5.0",
            "_view_count": null,
            "_view_module_version": "1.2.0",
            "_model_module": "@jupyter-widgets/controls"
          }
        },
        "d9b646f129a94bc3b44a2b18fd9ca25b": {
          "model_module": "@jupyter-widgets/base",
          "model_name": "LayoutModel",
          "state": {
            "_view_name": "LayoutView",
            "grid_template_rows": null,
            "right": null,
            "justify_content": null,
            "_view_module": "@jupyter-widgets/base",
            "overflow": null,
            "_model_module_version": "1.2.0",
            "_view_count": null,
            "flex_flow": null,
            "width": null,
            "min_width": null,
            "border": null,
            "align_items": null,
            "bottom": null,
            "_model_module": "@jupyter-widgets/base",
            "top": null,
            "grid_column": null,
            "overflow_y": null,
            "overflow_x": null,
            "grid_auto_flow": null,
            "grid_area": null,
            "grid_template_columns": null,
            "flex": null,
            "_model_name": "LayoutModel",
            "justify_items": null,
            "grid_row": null,
            "max_height": null,
            "align_content": null,
            "visibility": null,
            "align_self": null,
            "height": null,
            "min_height": null,
            "padding": null,
            "grid_auto_rows": null,
            "grid_gap": null,
            "max_width": null,
            "order": null,
            "_view_module_version": "1.2.0",
            "grid_template_areas": null,
            "object_position": null,
            "object_fit": null,
            "grid_auto_columns": null,
            "margin": null,
            "display": null,
            "left": null
          }
        },
        "e68af81530cf43dda3d814d1a1456b40": {
          "model_module": "@jupyter-widgets/controls",
          "model_name": "HBoxModel",
          "state": {
            "_view_name": "HBoxView",
            "_dom_classes": [],
            "_model_name": "HBoxModel",
            "_view_module": "@jupyter-widgets/controls",
            "_model_module_version": "1.5.0",
            "_view_count": null,
            "_view_module_version": "1.5.0",
            "box_style": "",
            "layout": "IPY_MODEL_b40951dc709a42c9bd8a5da6eb111451",
            "_model_module": "@jupyter-widgets/controls",
            "children": [
              "IPY_MODEL_89eb01fc137d474da1a3b0487edb0627",
              "IPY_MODEL_ac623d524ef9458ea7954600d1b2972f"
            ]
          }
        },
        "b40951dc709a42c9bd8a5da6eb111451": {
          "model_module": "@jupyter-widgets/base",
          "model_name": "LayoutModel",
          "state": {
            "_view_name": "LayoutView",
            "grid_template_rows": null,
            "right": null,
            "justify_content": null,
            "_view_module": "@jupyter-widgets/base",
            "overflow": null,
            "_model_module_version": "1.2.0",
            "_view_count": null,
            "flex_flow": null,
            "width": null,
            "min_width": null,
            "border": null,
            "align_items": null,
            "bottom": null,
            "_model_module": "@jupyter-widgets/base",
            "top": null,
            "grid_column": null,
            "overflow_y": null,
            "overflow_x": null,
            "grid_auto_flow": null,
            "grid_area": null,
            "grid_template_columns": null,
            "flex": null,
            "_model_name": "LayoutModel",
            "justify_items": null,
            "grid_row": null,
            "max_height": null,
            "align_content": null,
            "visibility": null,
            "align_self": null,
            "height": null,
            "min_height": null,
            "padding": null,
            "grid_auto_rows": null,
            "grid_gap": null,
            "max_width": null,
            "order": null,
            "_view_module_version": "1.2.0",
            "grid_template_areas": null,
            "object_position": null,
            "object_fit": null,
            "grid_auto_columns": null,
            "margin": null,
            "display": null,
            "left": null
          }
        },
        "89eb01fc137d474da1a3b0487edb0627": {
          "model_module": "@jupyter-widgets/controls",
          "model_name": "FloatProgressModel",
          "state": {
            "_view_name": "ProgressView",
            "style": "IPY_MODEL_d6c2224a534f4fb99ab7f758f53e3dd6",
            "_dom_classes": [],
            "description": "Downloading: 100%",
            "_model_name": "FloatProgressModel",
            "bar_style": "success",
            "max": 53,
            "_view_module": "@jupyter-widgets/controls",
            "_model_module_version": "1.5.0",
            "value": 53,
            "_view_count": null,
            "_view_module_version": "1.5.0",
            "orientation": "horizontal",
            "min": 0,
            "description_tooltip": null,
            "_model_module": "@jupyter-widgets/controls",
            "layout": "IPY_MODEL_1f38e77d635f4b6e9916927ab6ba04b8"
          }
        },
        "ac623d524ef9458ea7954600d1b2972f": {
          "model_module": "@jupyter-widgets/controls",
          "model_name": "HTMLModel",
          "state": {
            "_view_name": "HTMLView",
            "style": "IPY_MODEL_71a4265389434d56b3dc9d9990832f50",
            "_dom_classes": [],
            "description": "",
            "_model_name": "HTMLModel",
            "placeholder": "​",
            "_view_module": "@jupyter-widgets/controls",
            "_model_module_version": "1.5.0",
            "value": " 53.0/53.0 [00:37&lt;00:00, 1.40B/s]",
            "_view_count": null,
            "_view_module_version": "1.5.0",
            "description_tooltip": null,
            "_model_module": "@jupyter-widgets/controls",
            "layout": "IPY_MODEL_9eee6cb72b8f4f82b91bd80c669ddd47"
          }
        },
        "d6c2224a534f4fb99ab7f758f53e3dd6": {
          "model_module": "@jupyter-widgets/controls",
          "model_name": "ProgressStyleModel",
          "state": {
            "_view_name": "StyleView",
            "_model_name": "ProgressStyleModel",
            "description_width": "initial",
            "_view_module": "@jupyter-widgets/base",
            "_model_module_version": "1.5.0",
            "_view_count": null,
            "_view_module_version": "1.2.0",
            "bar_color": null,
            "_model_module": "@jupyter-widgets/controls"
          }
        },
        "1f38e77d635f4b6e9916927ab6ba04b8": {
          "model_module": "@jupyter-widgets/base",
          "model_name": "LayoutModel",
          "state": {
            "_view_name": "LayoutView",
            "grid_template_rows": null,
            "right": null,
            "justify_content": null,
            "_view_module": "@jupyter-widgets/base",
            "overflow": null,
            "_model_module_version": "1.2.0",
            "_view_count": null,
            "flex_flow": null,
            "width": null,
            "min_width": null,
            "border": null,
            "align_items": null,
            "bottom": null,
            "_model_module": "@jupyter-widgets/base",
            "top": null,
            "grid_column": null,
            "overflow_y": null,
            "overflow_x": null,
            "grid_auto_flow": null,
            "grid_area": null,
            "grid_template_columns": null,
            "flex": null,
            "_model_name": "LayoutModel",
            "justify_items": null,
            "grid_row": null,
            "max_height": null,
            "align_content": null,
            "visibility": null,
            "align_self": null,
            "height": null,
            "min_height": null,
            "padding": null,
            "grid_auto_rows": null,
            "grid_gap": null,
            "max_width": null,
            "order": null,
            "_view_module_version": "1.2.0",
            "grid_template_areas": null,
            "object_position": null,
            "object_fit": null,
            "grid_auto_columns": null,
            "margin": null,
            "display": null,
            "left": null
          }
        },
        "71a4265389434d56b3dc9d9990832f50": {
          "model_module": "@jupyter-widgets/controls",
          "model_name": "DescriptionStyleModel",
          "state": {
            "_view_name": "StyleView",
            "_model_name": "DescriptionStyleModel",
            "description_width": "",
            "_view_module": "@jupyter-widgets/base",
            "_model_module_version": "1.5.0",
            "_view_count": null,
            "_view_module_version": "1.2.0",
            "_model_module": "@jupyter-widgets/controls"
          }
        },
        "9eee6cb72b8f4f82b91bd80c669ddd47": {
          "model_module": "@jupyter-widgets/base",
          "model_name": "LayoutModel",
          "state": {
            "_view_name": "LayoutView",
            "grid_template_rows": null,
            "right": null,
            "justify_content": null,
            "_view_module": "@jupyter-widgets/base",
            "overflow": null,
            "_model_module_version": "1.2.0",
            "_view_count": null,
            "flex_flow": null,
            "width": null,
            "min_width": null,
            "border": null,
            "align_items": null,
            "bottom": null,
            "_model_module": "@jupyter-widgets/base",
            "top": null,
            "grid_column": null,
            "overflow_y": null,
            "overflow_x": null,
            "grid_auto_flow": null,
            "grid_area": null,
            "grid_template_columns": null,
            "flex": null,
            "_model_name": "LayoutModel",
            "justify_items": null,
            "grid_row": null,
            "max_height": null,
            "align_content": null,
            "visibility": null,
            "align_self": null,
            "height": null,
            "min_height": null,
            "padding": null,
            "grid_auto_rows": null,
            "grid_gap": null,
            "max_width": null,
            "order": null,
            "_view_module_version": "1.2.0",
            "grid_template_areas": null,
            "object_position": null,
            "object_fit": null,
            "grid_auto_columns": null,
            "margin": null,
            "display": null,
            "left": null
          }
        },
        "af6d7074ac4347fd97758046e809bc6c": {
          "model_module": "@jupyter-widgets/controls",
          "model_name": "HBoxModel",
          "state": {
            "_view_name": "HBoxView",
            "_dom_classes": [],
            "_model_name": "HBoxModel",
            "_view_module": "@jupyter-widgets/controls",
            "_model_module_version": "1.5.0",
            "_view_count": null,
            "_view_module_version": "1.5.0",
            "box_style": "",
            "layout": "IPY_MODEL_116db48a76f84dc484942a88c74b0203",
            "_model_module": "@jupyter-widgets/controls",
            "children": [
              "IPY_MODEL_697eb9c94f3a40dd8c339efde1f47d6c",
              "IPY_MODEL_919d75ae4c084f3eaa28d9826e6bcdb1"
            ]
          }
        },
        "116db48a76f84dc484942a88c74b0203": {
          "model_module": "@jupyter-widgets/base",
          "model_name": "LayoutModel",
          "state": {
            "_view_name": "LayoutView",
            "grid_template_rows": null,
            "right": null,
            "justify_content": null,
            "_view_module": "@jupyter-widgets/base",
            "overflow": null,
            "_model_module_version": "1.2.0",
            "_view_count": null,
            "flex_flow": null,
            "width": null,
            "min_width": null,
            "border": null,
            "align_items": null,
            "bottom": null,
            "_model_module": "@jupyter-widgets/base",
            "top": null,
            "grid_column": null,
            "overflow_y": null,
            "overflow_x": null,
            "grid_auto_flow": null,
            "grid_area": null,
            "grid_template_columns": null,
            "flex": null,
            "_model_name": "LayoutModel",
            "justify_items": null,
            "grid_row": null,
            "max_height": null,
            "align_content": null,
            "visibility": null,
            "align_self": null,
            "height": null,
            "min_height": null,
            "padding": null,
            "grid_auto_rows": null,
            "grid_gap": null,
            "max_width": null,
            "order": null,
            "_view_module_version": "1.2.0",
            "grid_template_areas": null,
            "object_position": null,
            "object_fit": null,
            "grid_auto_columns": null,
            "margin": null,
            "display": null,
            "left": null
          }
        },
        "697eb9c94f3a40dd8c339efde1f47d6c": {
          "model_module": "@jupyter-widgets/controls",
          "model_name": "FloatProgressModel",
          "state": {
            "_view_name": "ProgressView",
            "style": "IPY_MODEL_a5b563df3c0446b7bb3c34cde9415fa0",
            "_dom_classes": [],
            "description": "Downloading: 100%",
            "_model_name": "FloatProgressModel",
            "bar_style": "success",
            "max": 239,
            "_view_module": "@jupyter-widgets/controls",
            "_model_module_version": "1.5.0",
            "value": 239,
            "_view_count": null,
            "_view_module_version": "1.5.0",
            "orientation": "horizontal",
            "min": 0,
            "description_tooltip": null,
            "_model_module": "@jupyter-widgets/controls",
            "layout": "IPY_MODEL_3c317fd7752a4783ae028ac2dfa86d7c"
          }
        },
        "919d75ae4c084f3eaa28d9826e6bcdb1": {
          "model_module": "@jupyter-widgets/controls",
          "model_name": "HTMLModel",
          "state": {
            "_view_name": "HTMLView",
            "style": "IPY_MODEL_34aa05d7fddc4f919bac86f41679ae6a",
            "_dom_classes": [],
            "description": "",
            "_model_name": "HTMLModel",
            "placeholder": "​",
            "_view_module": "@jupyter-widgets/controls",
            "_model_module_version": "1.5.0",
            "value": " 239/239 [00:00&lt;00:00, 1.87kB/s]",
            "_view_count": null,
            "_view_module_version": "1.5.0",
            "description_tooltip": null,
            "_model_module": "@jupyter-widgets/controls",
            "layout": "IPY_MODEL_510639c635c44699a0c404c5032fc728"
          }
        },
        "a5b563df3c0446b7bb3c34cde9415fa0": {
          "model_module": "@jupyter-widgets/controls",
          "model_name": "ProgressStyleModel",
          "state": {
            "_view_name": "StyleView",
            "_model_name": "ProgressStyleModel",
            "description_width": "initial",
            "_view_module": "@jupyter-widgets/base",
            "_model_module_version": "1.5.0",
            "_view_count": null,
            "_view_module_version": "1.2.0",
            "bar_color": null,
            "_model_module": "@jupyter-widgets/controls"
          }
        },
        "3c317fd7752a4783ae028ac2dfa86d7c": {
          "model_module": "@jupyter-widgets/base",
          "model_name": "LayoutModel",
          "state": {
            "_view_name": "LayoutView",
            "grid_template_rows": null,
            "right": null,
            "justify_content": null,
            "_view_module": "@jupyter-widgets/base",
            "overflow": null,
            "_model_module_version": "1.2.0",
            "_view_count": null,
            "flex_flow": null,
            "width": null,
            "min_width": null,
            "border": null,
            "align_items": null,
            "bottom": null,
            "_model_module": "@jupyter-widgets/base",
            "top": null,
            "grid_column": null,
            "overflow_y": null,
            "overflow_x": null,
            "grid_auto_flow": null,
            "grid_area": null,
            "grid_template_columns": null,
            "flex": null,
            "_model_name": "LayoutModel",
            "justify_items": null,
            "grid_row": null,
            "max_height": null,
            "align_content": null,
            "visibility": null,
            "align_self": null,
            "height": null,
            "min_height": null,
            "padding": null,
            "grid_auto_rows": null,
            "grid_gap": null,
            "max_width": null,
            "order": null,
            "_view_module_version": "1.2.0",
            "grid_template_areas": null,
            "object_position": null,
            "object_fit": null,
            "grid_auto_columns": null,
            "margin": null,
            "display": null,
            "left": null
          }
        },
        "34aa05d7fddc4f919bac86f41679ae6a": {
          "model_module": "@jupyter-widgets/controls",
          "model_name": "DescriptionStyleModel",
          "state": {
            "_view_name": "StyleView",
            "_model_name": "DescriptionStyleModel",
            "description_width": "",
            "_view_module": "@jupyter-widgets/base",
            "_model_module_version": "1.5.0",
            "_view_count": null,
            "_view_module_version": "1.2.0",
            "_model_module": "@jupyter-widgets/controls"
          }
        },
        "510639c635c44699a0c404c5032fc728": {
          "model_module": "@jupyter-widgets/base",
          "model_name": "LayoutModel",
          "state": {
            "_view_name": "LayoutView",
            "grid_template_rows": null,
            "right": null,
            "justify_content": null,
            "_view_module": "@jupyter-widgets/base",
            "overflow": null,
            "_model_module_version": "1.2.0",
            "_view_count": null,
            "flex_flow": null,
            "width": null,
            "min_width": null,
            "border": null,
            "align_items": null,
            "bottom": null,
            "_model_module": "@jupyter-widgets/base",
            "top": null,
            "grid_column": null,
            "overflow_y": null,
            "overflow_x": null,
            "grid_auto_flow": null,
            "grid_area": null,
            "grid_template_columns": null,
            "flex": null,
            "_model_name": "LayoutModel",
            "justify_items": null,
            "grid_row": null,
            "max_height": null,
            "align_content": null,
            "visibility": null,
            "align_self": null,
            "height": null,
            "min_height": null,
            "padding": null,
            "grid_auto_rows": null,
            "grid_gap": null,
            "max_width": null,
            "order": null,
            "_view_module_version": "1.2.0",
            "grid_template_areas": null,
            "object_position": null,
            "object_fit": null,
            "grid_auto_columns": null,
            "margin": null,
            "display": null,
            "left": null
          }
        },
        "a423e323e1564e8a9223885e10186696": {
          "model_module": "@jupyter-widgets/controls",
          "model_name": "HBoxModel",
          "state": {
            "_view_name": "HBoxView",
            "_dom_classes": [],
            "_model_name": "HBoxModel",
            "_view_module": "@jupyter-widgets/controls",
            "_model_module_version": "1.5.0",
            "_view_count": null,
            "_view_module_version": "1.5.0",
            "box_style": "",
            "layout": "IPY_MODEL_22e6331f5e5e4152bc1129adfd2ab51a",
            "_model_module": "@jupyter-widgets/controls",
            "children": [
              "IPY_MODEL_c23f12d7aafe43a7a05889d8d9ecd078",
              "IPY_MODEL_b92ec09a912742a5b57673653459cc08"
            ]
          }
        },
        "22e6331f5e5e4152bc1129adfd2ab51a": {
          "model_module": "@jupyter-widgets/base",
          "model_name": "LayoutModel",
          "state": {
            "_view_name": "LayoutView",
            "grid_template_rows": null,
            "right": null,
            "justify_content": null,
            "_view_module": "@jupyter-widgets/base",
            "overflow": null,
            "_model_module_version": "1.2.0",
            "_view_count": null,
            "flex_flow": null,
            "width": null,
            "min_width": null,
            "border": null,
            "align_items": null,
            "bottom": null,
            "_model_module": "@jupyter-widgets/base",
            "top": null,
            "grid_column": null,
            "overflow_y": null,
            "overflow_x": null,
            "grid_auto_flow": null,
            "grid_area": null,
            "grid_template_columns": null,
            "flex": null,
            "_model_name": "LayoutModel",
            "justify_items": null,
            "grid_row": null,
            "max_height": null,
            "align_content": null,
            "visibility": null,
            "align_self": null,
            "height": null,
            "min_height": null,
            "padding": null,
            "grid_auto_rows": null,
            "grid_gap": null,
            "max_width": null,
            "order": null,
            "_view_module_version": "1.2.0",
            "grid_template_areas": null,
            "object_position": null,
            "object_fit": null,
            "grid_auto_columns": null,
            "margin": null,
            "display": null,
            "left": null
          }
        },
        "c23f12d7aafe43a7a05889d8d9ecd078": {
          "model_module": "@jupyter-widgets/controls",
          "model_name": "FloatProgressModel",
          "state": {
            "_view_name": "ProgressView",
            "style": "IPY_MODEL_614f1249139b4ab1a7774f0d4d9e97b7",
            "_dom_classes": [],
            "description": "Downloading: 100%",
            "_model_name": "FloatProgressModel",
            "bar_style": "success",
            "max": 1355881,
            "_view_module": "@jupyter-widgets/controls",
            "_model_module_version": "1.5.0",
            "value": 1355881,
            "_view_count": null,
            "_view_module_version": "1.5.0",
            "orientation": "horizontal",
            "min": 0,
            "description_tooltip": null,
            "_model_module": "@jupyter-widgets/controls",
            "layout": "IPY_MODEL_88f6c2cc8436427caa7cb2eebfc1508c"
          }
        },
        "b92ec09a912742a5b57673653459cc08": {
          "model_module": "@jupyter-widgets/controls",
          "model_name": "HTMLModel",
          "state": {
            "_view_name": "HTMLView",
            "style": "IPY_MODEL_f570cf651b3b4694b0071467e6b18f85",
            "_dom_classes": [],
            "description": "",
            "_model_name": "HTMLModel",
            "placeholder": "​",
            "_view_module": "@jupyter-widgets/controls",
            "_model_module_version": "1.5.0",
            "value": " 1.36M/1.36M [00:15&lt;00:00, 87.9kB/s]",
            "_view_count": null,
            "_view_module_version": "1.5.0",
            "description_tooltip": null,
            "_model_module": "@jupyter-widgets/controls",
            "layout": "IPY_MODEL_ca65b4589b9343ea802933ae1fac6da1"
          }
        },
        "614f1249139b4ab1a7774f0d4d9e97b7": {
          "model_module": "@jupyter-widgets/controls",
          "model_name": "ProgressStyleModel",
          "state": {
            "_view_name": "StyleView",
            "_model_name": "ProgressStyleModel",
            "description_width": "initial",
            "_view_module": "@jupyter-widgets/base",
            "_model_module_version": "1.5.0",
            "_view_count": null,
            "_view_module_version": "1.2.0",
            "bar_color": null,
            "_model_module": "@jupyter-widgets/controls"
          }
        },
        "88f6c2cc8436427caa7cb2eebfc1508c": {
          "model_module": "@jupyter-widgets/base",
          "model_name": "LayoutModel",
          "state": {
            "_view_name": "LayoutView",
            "grid_template_rows": null,
            "right": null,
            "justify_content": null,
            "_view_module": "@jupyter-widgets/base",
            "overflow": null,
            "_model_module_version": "1.2.0",
            "_view_count": null,
            "flex_flow": null,
            "width": null,
            "min_width": null,
            "border": null,
            "align_items": null,
            "bottom": null,
            "_model_module": "@jupyter-widgets/base",
            "top": null,
            "grid_column": null,
            "overflow_y": null,
            "overflow_x": null,
            "grid_auto_flow": null,
            "grid_area": null,
            "grid_template_columns": null,
            "flex": null,
            "_model_name": "LayoutModel",
            "justify_items": null,
            "grid_row": null,
            "max_height": null,
            "align_content": null,
            "visibility": null,
            "align_self": null,
            "height": null,
            "min_height": null,
            "padding": null,
            "grid_auto_rows": null,
            "grid_gap": null,
            "max_width": null,
            "order": null,
            "_view_module_version": "1.2.0",
            "grid_template_areas": null,
            "object_position": null,
            "object_fit": null,
            "grid_auto_columns": null,
            "margin": null,
            "display": null,
            "left": null
          }
        },
        "f570cf651b3b4694b0071467e6b18f85": {
          "model_module": "@jupyter-widgets/controls",
          "model_name": "DescriptionStyleModel",
          "state": {
            "_view_name": "StyleView",
            "_model_name": "DescriptionStyleModel",
            "description_width": "",
            "_view_module": "@jupyter-widgets/base",
            "_model_module_version": "1.5.0",
            "_view_count": null,
            "_view_module_version": "1.2.0",
            "_model_module": "@jupyter-widgets/controls"
          }
        },
        "ca65b4589b9343ea802933ae1fac6da1": {
          "model_module": "@jupyter-widgets/base",
          "model_name": "LayoutModel",
          "state": {
            "_view_name": "LayoutView",
            "grid_template_rows": null,
            "right": null,
            "justify_content": null,
            "_view_module": "@jupyter-widgets/base",
            "overflow": null,
            "_model_module_version": "1.2.0",
            "_view_count": null,
            "flex_flow": null,
            "width": null,
            "min_width": null,
            "border": null,
            "align_items": null,
            "bottom": null,
            "_model_module": "@jupyter-widgets/base",
            "top": null,
            "grid_column": null,
            "overflow_y": null,
            "overflow_x": null,
            "grid_auto_flow": null,
            "grid_area": null,
            "grid_template_columns": null,
            "flex": null,
            "_model_name": "LayoutModel",
            "justify_items": null,
            "grid_row": null,
            "max_height": null,
            "align_content": null,
            "visibility": null,
            "align_self": null,
            "height": null,
            "min_height": null,
            "padding": null,
            "grid_auto_rows": null,
            "grid_gap": null,
            "max_width": null,
            "order": null,
            "_view_module_version": "1.2.0",
            "grid_template_areas": null,
            "object_position": null,
            "object_fit": null,
            "grid_auto_columns": null,
            "margin": null,
            "display": null,
            "left": null
          }
        },
        "e0d778b6578e412184933de8de5f754d": {
          "model_module": "@jupyter-widgets/controls",
          "model_name": "HBoxModel",
          "state": {
            "_view_name": "HBoxView",
            "_dom_classes": [],
            "_model_name": "HBoxModel",
            "_view_module": "@jupyter-widgets/controls",
            "_model_module_version": "1.5.0",
            "_view_count": null,
            "_view_module_version": "1.5.0",
            "box_style": "",
            "layout": "IPY_MODEL_7deebca2ef9c467aa9f087ed2239ac21",
            "_model_module": "@jupyter-widgets/controls",
            "children": [
              "IPY_MODEL_589e064291f64748abb86f01ab75d5da",
              "IPY_MODEL_4b7af7dbaf094ccca619f6ccbbf9f6c9"
            ]
          }
        },
        "7deebca2ef9c467aa9f087ed2239ac21": {
          "model_module": "@jupyter-widgets/base",
          "model_name": "LayoutModel",
          "state": {
            "_view_name": "LayoutView",
            "grid_template_rows": null,
            "right": null,
            "justify_content": null,
            "_view_module": "@jupyter-widgets/base",
            "overflow": null,
            "_model_module_version": "1.2.0",
            "_view_count": null,
            "flex_flow": null,
            "width": null,
            "min_width": null,
            "border": null,
            "align_items": null,
            "bottom": null,
            "_model_module": "@jupyter-widgets/base",
            "top": null,
            "grid_column": null,
            "overflow_y": null,
            "overflow_x": null,
            "grid_auto_flow": null,
            "grid_area": null,
            "grid_template_columns": null,
            "flex": null,
            "_model_name": "LayoutModel",
            "justify_items": null,
            "grid_row": null,
            "max_height": null,
            "align_content": null,
            "visibility": null,
            "align_self": null,
            "height": null,
            "min_height": null,
            "padding": null,
            "grid_auto_rows": null,
            "grid_gap": null,
            "max_width": null,
            "order": null,
            "_view_module_version": "1.2.0",
            "grid_template_areas": null,
            "object_position": null,
            "object_fit": null,
            "grid_auto_columns": null,
            "margin": null,
            "display": null,
            "left": null
          }
        },
        "589e064291f64748abb86f01ab75d5da": {
          "model_module": "@jupyter-widgets/controls",
          "model_name": "FloatProgressModel",
          "state": {
            "_view_name": "ProgressView",
            "style": "IPY_MODEL_e3834c708c3b4e98a19ce5601a7a0780",
            "_dom_classes": [],
            "description": "Downloading: 100%",
            "_model_name": "FloatProgressModel",
            "bar_style": "success",
            "max": 1352,
            "_view_module": "@jupyter-widgets/controls",
            "_model_module_version": "1.5.0",
            "value": 1352,
            "_view_count": null,
            "_view_module_version": "1.5.0",
            "orientation": "horizontal",
            "min": 0,
            "description_tooltip": null,
            "_model_module": "@jupyter-widgets/controls",
            "layout": "IPY_MODEL_cdfd65705e6e4f63a2f7e64b3436507d"
          }
        },
        "4b7af7dbaf094ccca619f6ccbbf9f6c9": {
          "model_module": "@jupyter-widgets/controls",
          "model_name": "HTMLModel",
          "state": {
            "_view_name": "HTMLView",
            "style": "IPY_MODEL_5b369f0bc8594f95b300168ccd054eb6",
            "_dom_classes": [],
            "description": "",
            "_model_name": "HTMLModel",
            "placeholder": "​",
            "_view_module": "@jupyter-widgets/controls",
            "_model_module_version": "1.5.0",
            "value": " 1.35k/1.35k [00:00&lt;00:00, 2.20kB/s]",
            "_view_count": null,
            "_view_module_version": "1.5.0",
            "description_tooltip": null,
            "_model_module": "@jupyter-widgets/controls",
            "layout": "IPY_MODEL_f9954b10556747ddbb144c33b5562177"
          }
        },
        "e3834c708c3b4e98a19ce5601a7a0780": {
          "model_module": "@jupyter-widgets/controls",
          "model_name": "ProgressStyleModel",
          "state": {
            "_view_name": "StyleView",
            "_model_name": "ProgressStyleModel",
            "description_width": "initial",
            "_view_module": "@jupyter-widgets/base",
            "_model_module_version": "1.5.0",
            "_view_count": null,
            "_view_module_version": "1.2.0",
            "bar_color": null,
            "_model_module": "@jupyter-widgets/controls"
          }
        },
        "cdfd65705e6e4f63a2f7e64b3436507d": {
          "model_module": "@jupyter-widgets/base",
          "model_name": "LayoutModel",
          "state": {
            "_view_name": "LayoutView",
            "grid_template_rows": null,
            "right": null,
            "justify_content": null,
            "_view_module": "@jupyter-widgets/base",
            "overflow": null,
            "_model_module_version": "1.2.0",
            "_view_count": null,
            "flex_flow": null,
            "width": null,
            "min_width": null,
            "border": null,
            "align_items": null,
            "bottom": null,
            "_model_module": "@jupyter-widgets/base",
            "top": null,
            "grid_column": null,
            "overflow_y": null,
            "overflow_x": null,
            "grid_auto_flow": null,
            "grid_area": null,
            "grid_template_columns": null,
            "flex": null,
            "_model_name": "LayoutModel",
            "justify_items": null,
            "grid_row": null,
            "max_height": null,
            "align_content": null,
            "visibility": null,
            "align_self": null,
            "height": null,
            "min_height": null,
            "padding": null,
            "grid_auto_rows": null,
            "grid_gap": null,
            "max_width": null,
            "order": null,
            "_view_module_version": "1.2.0",
            "grid_template_areas": null,
            "object_position": null,
            "object_fit": null,
            "grid_auto_columns": null,
            "margin": null,
            "display": null,
            "left": null
          }
        },
        "5b369f0bc8594f95b300168ccd054eb6": {
          "model_module": "@jupyter-widgets/controls",
          "model_name": "DescriptionStyleModel",
          "state": {
            "_view_name": "StyleView",
            "_model_name": "DescriptionStyleModel",
            "description_width": "",
            "_view_module": "@jupyter-widgets/base",
            "_model_module_version": "1.5.0",
            "_view_count": null,
            "_view_module_version": "1.2.0",
            "_model_module": "@jupyter-widgets/controls"
          }
        },
        "f9954b10556747ddbb144c33b5562177": {
          "model_module": "@jupyter-widgets/base",
          "model_name": "LayoutModel",
          "state": {
            "_view_name": "LayoutView",
            "grid_template_rows": null,
            "right": null,
            "justify_content": null,
            "_view_module": "@jupyter-widgets/base",
            "overflow": null,
            "_model_module_version": "1.2.0",
            "_view_count": null,
            "flex_flow": null,
            "width": null,
            "min_width": null,
            "border": null,
            "align_items": null,
            "bottom": null,
            "_model_module": "@jupyter-widgets/base",
            "top": null,
            "grid_column": null,
            "overflow_y": null,
            "overflow_x": null,
            "grid_auto_flow": null,
            "grid_area": null,
            "grid_template_columns": null,
            "flex": null,
            "_model_name": "LayoutModel",
            "justify_items": null,
            "grid_row": null,
            "max_height": null,
            "align_content": null,
            "visibility": null,
            "align_self": null,
            "height": null,
            "min_height": null,
            "padding": null,
            "grid_auto_rows": null,
            "grid_gap": null,
            "max_width": null,
            "order": null,
            "_view_module_version": "1.2.0",
            "grid_template_areas": null,
            "object_position": null,
            "object_fit": null,
            "grid_auto_columns": null,
            "margin": null,
            "display": null,
            "left": null
          }
        },
        "63bf0219abec438a935b0c9f25ceff4d": {
          "model_module": "@jupyter-widgets/controls",
          "model_name": "HBoxModel",
          "state": {
            "_view_name": "HBoxView",
            "_dom_classes": [],
            "_model_name": "HBoxModel",
            "_view_module": "@jupyter-widgets/controls",
            "_model_module_version": "1.5.0",
            "_view_count": null,
            "_view_module_version": "1.5.0",
            "box_style": "",
            "layout": "IPY_MODEL_e17a665f95d74c9d88c5e4c71faba9a2",
            "_model_module": "@jupyter-widgets/controls",
            "children": [
              "IPY_MODEL_14f83ac8ba3f47cb9422c57783b2cbcd",
              "IPY_MODEL_193250e31877443b9ae4859c4e36cdac"
            ]
          }
        },
        "e17a665f95d74c9d88c5e4c71faba9a2": {
          "model_module": "@jupyter-widgets/base",
          "model_name": "LayoutModel",
          "state": {
            "_view_name": "LayoutView",
            "grid_template_rows": null,
            "right": null,
            "justify_content": null,
            "_view_module": "@jupyter-widgets/base",
            "overflow": null,
            "_model_module_version": "1.2.0",
            "_view_count": null,
            "flex_flow": null,
            "width": null,
            "min_width": null,
            "border": null,
            "align_items": null,
            "bottom": null,
            "_model_module": "@jupyter-widgets/base",
            "top": null,
            "grid_column": null,
            "overflow_y": null,
            "overflow_x": null,
            "grid_auto_flow": null,
            "grid_area": null,
            "grid_template_columns": null,
            "flex": null,
            "_model_name": "LayoutModel",
            "justify_items": null,
            "grid_row": null,
            "max_height": null,
            "align_content": null,
            "visibility": null,
            "align_self": null,
            "height": null,
            "min_height": null,
            "padding": null,
            "grid_auto_rows": null,
            "grid_gap": null,
            "max_width": null,
            "order": null,
            "_view_module_version": "1.2.0",
            "grid_template_areas": null,
            "object_position": null,
            "object_fit": null,
            "grid_auto_columns": null,
            "margin": null,
            "display": null,
            "left": null
          }
        },
        "14f83ac8ba3f47cb9422c57783b2cbcd": {
          "model_module": "@jupyter-widgets/controls",
          "model_name": "FloatProgressModel",
          "state": {
            "_view_name": "ProgressView",
            "style": "IPY_MODEL_beaee5d780194c3a8b59d709edbdb91f",
            "_dom_classes": [],
            "description": "Downloading: 100%",
            "_model_name": "FloatProgressModel",
            "bar_style": "success",
            "max": 798293,
            "_view_module": "@jupyter-widgets/controls",
            "_model_module_version": "1.5.0",
            "value": 798293,
            "_view_count": null,
            "_view_module_version": "1.5.0",
            "orientation": "horizontal",
            "min": 0,
            "description_tooltip": null,
            "_model_module": "@jupyter-widgets/controls",
            "layout": "IPY_MODEL_cca5a22b45e044569f504c387febb2e2"
          }
        },
        "193250e31877443b9ae4859c4e36cdac": {
          "model_module": "@jupyter-widgets/controls",
          "model_name": "HTMLModel",
          "state": {
            "_view_name": "HTMLView",
            "style": "IPY_MODEL_cc8f0ac2b66749e3bf39c5568fef1523",
            "_dom_classes": [],
            "description": "",
            "_model_name": "HTMLModel",
            "placeholder": "​",
            "_view_module": "@jupyter-widgets/controls",
            "_model_module_version": "1.5.0",
            "value": " 798k/798k [00:00&lt;00:00, 1.52MB/s]",
            "_view_count": null,
            "_view_module_version": "1.5.0",
            "description_tooltip": null,
            "_model_module": "@jupyter-widgets/controls",
            "layout": "IPY_MODEL_e965b142a3ac41c8b6bb83499fe22e2f"
          }
        },
        "beaee5d780194c3a8b59d709edbdb91f": {
          "model_module": "@jupyter-widgets/controls",
          "model_name": "ProgressStyleModel",
          "state": {
            "_view_name": "StyleView",
            "_model_name": "ProgressStyleModel",
            "description_width": "initial",
            "_view_module": "@jupyter-widgets/base",
            "_model_module_version": "1.5.0",
            "_view_count": null,
            "_view_module_version": "1.2.0",
            "bar_color": null,
            "_model_module": "@jupyter-widgets/controls"
          }
        },
        "cca5a22b45e044569f504c387febb2e2": {
          "model_module": "@jupyter-widgets/base",
          "model_name": "LayoutModel",
          "state": {
            "_view_name": "LayoutView",
            "grid_template_rows": null,
            "right": null,
            "justify_content": null,
            "_view_module": "@jupyter-widgets/base",
            "overflow": null,
            "_model_module_version": "1.2.0",
            "_view_count": null,
            "flex_flow": null,
            "width": null,
            "min_width": null,
            "border": null,
            "align_items": null,
            "bottom": null,
            "_model_module": "@jupyter-widgets/base",
            "top": null,
            "grid_column": null,
            "overflow_y": null,
            "overflow_x": null,
            "grid_auto_flow": null,
            "grid_area": null,
            "grid_template_columns": null,
            "flex": null,
            "_model_name": "LayoutModel",
            "justify_items": null,
            "grid_row": null,
            "max_height": null,
            "align_content": null,
            "visibility": null,
            "align_self": null,
            "height": null,
            "min_height": null,
            "padding": null,
            "grid_auto_rows": null,
            "grid_gap": null,
            "max_width": null,
            "order": null,
            "_view_module_version": "1.2.0",
            "grid_template_areas": null,
            "object_position": null,
            "object_fit": null,
            "grid_auto_columns": null,
            "margin": null,
            "display": null,
            "left": null
          }
        },
        "cc8f0ac2b66749e3bf39c5568fef1523": {
          "model_module": "@jupyter-widgets/controls",
          "model_name": "DescriptionStyleModel",
          "state": {
            "_view_name": "StyleView",
            "_model_name": "DescriptionStyleModel",
            "description_width": "",
            "_view_module": "@jupyter-widgets/base",
            "_model_module_version": "1.5.0",
            "_view_count": null,
            "_view_module_version": "1.2.0",
            "_model_module": "@jupyter-widgets/controls"
          }
        },
        "e965b142a3ac41c8b6bb83499fe22e2f": {
          "model_module": "@jupyter-widgets/base",
          "model_name": "LayoutModel",
          "state": {
            "_view_name": "LayoutView",
            "grid_template_rows": null,
            "right": null,
            "justify_content": null,
            "_view_module": "@jupyter-widgets/base",
            "overflow": null,
            "_model_module_version": "1.2.0",
            "_view_count": null,
            "flex_flow": null,
            "width": null,
            "min_width": null,
            "border": null,
            "align_items": null,
            "bottom": null,
            "_model_module": "@jupyter-widgets/base",
            "top": null,
            "grid_column": null,
            "overflow_y": null,
            "overflow_x": null,
            "grid_auto_flow": null,
            "grid_area": null,
            "grid_template_columns": null,
            "flex": null,
            "_model_name": "LayoutModel",
            "justify_items": null,
            "grid_row": null,
            "max_height": null,
            "align_content": null,
            "visibility": null,
            "align_self": null,
            "height": null,
            "min_height": null,
            "padding": null,
            "grid_auto_rows": null,
            "grid_gap": null,
            "max_width": null,
            "order": null,
            "_view_module_version": "1.2.0",
            "grid_template_areas": null,
            "object_position": null,
            "object_fit": null,
            "grid_auto_columns": null,
            "margin": null,
            "display": null,
            "left": null
          }
        },
        "5b542ebf128748aca496c0e82b822956": {
          "model_module": "@jupyter-widgets/controls",
          "model_name": "HBoxModel",
          "state": {
            "_view_name": "HBoxView",
            "_dom_classes": [],
            "_model_name": "HBoxModel",
            "_view_module": "@jupyter-widgets/controls",
            "_model_module_version": "1.5.0",
            "_view_count": null,
            "_view_module_version": "1.5.0",
            "box_style": "",
            "layout": "IPY_MODEL_e33d29b718c74b71b44b794639ce560e",
            "_model_module": "@jupyter-widgets/controls",
            "children": [
              "IPY_MODEL_32eae07ce9094e8faa56f871c0731295",
              "IPY_MODEL_f5ab58e4a70b4433955b4feb75bbb55c"
            ]
          }
        },
        "e33d29b718c74b71b44b794639ce560e": {
          "model_module": "@jupyter-widgets/base",
          "model_name": "LayoutModel",
          "state": {
            "_view_name": "LayoutView",
            "grid_template_rows": null,
            "right": null,
            "justify_content": null,
            "_view_module": "@jupyter-widgets/base",
            "overflow": null,
            "_model_module_version": "1.2.0",
            "_view_count": null,
            "flex_flow": null,
            "width": null,
            "min_width": null,
            "border": null,
            "align_items": null,
            "bottom": null,
            "_model_module": "@jupyter-widgets/base",
            "top": null,
            "grid_column": null,
            "overflow_y": null,
            "overflow_x": null,
            "grid_auto_flow": null,
            "grid_area": null,
            "grid_template_columns": null,
            "flex": null,
            "_model_name": "LayoutModel",
            "justify_items": null,
            "grid_row": null,
            "max_height": null,
            "align_content": null,
            "visibility": null,
            "align_self": null,
            "height": null,
            "min_height": null,
            "padding": null,
            "grid_auto_rows": null,
            "grid_gap": null,
            "max_width": null,
            "order": null,
            "_view_module_version": "1.2.0",
            "grid_template_areas": null,
            "object_position": null,
            "object_fit": null,
            "grid_auto_columns": null,
            "margin": null,
            "display": null,
            "left": null
          }
        },
        "32eae07ce9094e8faa56f871c0731295": {
          "model_module": "@jupyter-widgets/controls",
          "model_name": "FloatProgressModel",
          "state": {
            "_view_name": "ProgressView",
            "style": "IPY_MODEL_51ab37b99bd844a0860f1dad930d9674",
            "_dom_classes": [],
            "description": "Downloading: 100%",
            "_model_name": "FloatProgressModel",
            "bar_style": "success",
            "max": 190,
            "_view_module": "@jupyter-widgets/controls",
            "_model_module_version": "1.5.0",
            "value": 190,
            "_view_count": null,
            "_view_module_version": "1.5.0",
            "orientation": "horizontal",
            "min": 0,
            "description_tooltip": null,
            "_model_module": "@jupyter-widgets/controls",
            "layout": "IPY_MODEL_38dfec803244405da2fddd271805999f"
          }
        },
        "f5ab58e4a70b4433955b4feb75bbb55c": {
          "model_module": "@jupyter-widgets/controls",
          "model_name": "HTMLModel",
          "state": {
            "_view_name": "HTMLView",
            "style": "IPY_MODEL_906d6316d39c456f8d31a41f4550938f",
            "_dom_classes": [],
            "description": "",
            "_model_name": "HTMLModel",
            "placeholder": "​",
            "_view_module": "@jupyter-widgets/controls",
            "_model_module_version": "1.5.0",
            "value": " 190/190 [00:00&lt;00:00, 466B/s]",
            "_view_count": null,
            "_view_module_version": "1.5.0",
            "description_tooltip": null,
            "_model_module": "@jupyter-widgets/controls",
            "layout": "IPY_MODEL_4ff9e9960c2c4a35b9390f9332a3d96e"
          }
        },
        "51ab37b99bd844a0860f1dad930d9674": {
          "model_module": "@jupyter-widgets/controls",
          "model_name": "ProgressStyleModel",
          "state": {
            "_view_name": "StyleView",
            "_model_name": "ProgressStyleModel",
            "description_width": "initial",
            "_view_module": "@jupyter-widgets/base",
            "_model_module_version": "1.5.0",
            "_view_count": null,
            "_view_module_version": "1.2.0",
            "bar_color": null,
            "_model_module": "@jupyter-widgets/controls"
          }
        },
        "38dfec803244405da2fddd271805999f": {
          "model_module": "@jupyter-widgets/base",
          "model_name": "LayoutModel",
          "state": {
            "_view_name": "LayoutView",
            "grid_template_rows": null,
            "right": null,
            "justify_content": null,
            "_view_module": "@jupyter-widgets/base",
            "overflow": null,
            "_model_module_version": "1.2.0",
            "_view_count": null,
            "flex_flow": null,
            "width": null,
            "min_width": null,
            "border": null,
            "align_items": null,
            "bottom": null,
            "_model_module": "@jupyter-widgets/base",
            "top": null,
            "grid_column": null,
            "overflow_y": null,
            "overflow_x": null,
            "grid_auto_flow": null,
            "grid_area": null,
            "grid_template_columns": null,
            "flex": null,
            "_model_name": "LayoutModel",
            "justify_items": null,
            "grid_row": null,
            "max_height": null,
            "align_content": null,
            "visibility": null,
            "align_self": null,
            "height": null,
            "min_height": null,
            "padding": null,
            "grid_auto_rows": null,
            "grid_gap": null,
            "max_width": null,
            "order": null,
            "_view_module_version": "1.2.0",
            "grid_template_areas": null,
            "object_position": null,
            "object_fit": null,
            "grid_auto_columns": null,
            "margin": null,
            "display": null,
            "left": null
          }
        },
        "906d6316d39c456f8d31a41f4550938f": {
          "model_module": "@jupyter-widgets/controls",
          "model_name": "DescriptionStyleModel",
          "state": {
            "_view_name": "StyleView",
            "_model_name": "DescriptionStyleModel",
            "description_width": "",
            "_view_module": "@jupyter-widgets/base",
            "_model_module_version": "1.5.0",
            "_view_count": null,
            "_view_module_version": "1.2.0",
            "_model_module": "@jupyter-widgets/controls"
          }
        },
        "4ff9e9960c2c4a35b9390f9332a3d96e": {
          "model_module": "@jupyter-widgets/base",
          "model_name": "LayoutModel",
          "state": {
            "_view_name": "LayoutView",
            "grid_template_rows": null,
            "right": null,
            "justify_content": null,
            "_view_module": "@jupyter-widgets/base",
            "overflow": null,
            "_model_module_version": "1.2.0",
            "_view_count": null,
            "flex_flow": null,
            "width": null,
            "min_width": null,
            "border": null,
            "align_items": null,
            "bottom": null,
            "_model_module": "@jupyter-widgets/base",
            "top": null,
            "grid_column": null,
            "overflow_y": null,
            "overflow_x": null,
            "grid_auto_flow": null,
            "grid_area": null,
            "grid_template_columns": null,
            "flex": null,
            "_model_name": "LayoutModel",
            "justify_items": null,
            "grid_row": null,
            "max_height": null,
            "align_content": null,
            "visibility": null,
            "align_self": null,
            "height": null,
            "min_height": null,
            "padding": null,
            "grid_auto_rows": null,
            "grid_gap": null,
            "max_width": null,
            "order": null,
            "_view_module_version": "1.2.0",
            "grid_template_areas": null,
            "object_position": null,
            "object_fit": null,
            "grid_auto_columns": null,
            "margin": null,
            "display": null,
            "left": null
          }
        },
        "d37c3659743b40f0a62d5a45b8cad1bf": {
          "model_module": "@jupyter-widgets/controls",
          "model_name": "VBoxModel",
          "state": {
            "_view_name": "VBoxView",
            "_dom_classes": [
              "widget-interact"
            ],
            "_model_name": "VBoxModel",
            "_view_module": "@jupyter-widgets/controls",
            "_model_module_version": "1.5.0",
            "_view_count": null,
            "_view_module_version": "1.5.0",
            "box_style": "",
            "layout": "IPY_MODEL_d6cb9ed9901c4cea8fb6765ce72f2e41",
            "_model_module": "@jupyter-widgets/controls",
            "children": [
              "IPY_MODEL_bf5e6a3e82b7447a8ee42c7606a9d27d",
              "IPY_MODEL_3a5f0731fc4a45608266d2122fa328e7"
            ]
          }
        },
        "d6cb9ed9901c4cea8fb6765ce72f2e41": {
          "model_module": "@jupyter-widgets/base",
          "model_name": "LayoutModel",
          "state": {
            "_view_name": "LayoutView",
            "grid_template_rows": null,
            "right": null,
            "justify_content": null,
            "_view_module": "@jupyter-widgets/base",
            "overflow": null,
            "_model_module_version": "1.2.0",
            "_view_count": null,
            "flex_flow": null,
            "width": null,
            "min_width": null,
            "border": null,
            "align_items": null,
            "bottom": null,
            "_model_module": "@jupyter-widgets/base",
            "top": null,
            "grid_column": null,
            "overflow_y": null,
            "overflow_x": null,
            "grid_auto_flow": null,
            "grid_area": null,
            "grid_template_columns": null,
            "flex": null,
            "_model_name": "LayoutModel",
            "justify_items": null,
            "grid_row": null,
            "max_height": null,
            "align_content": null,
            "visibility": null,
            "align_self": null,
            "height": null,
            "min_height": null,
            "padding": null,
            "grid_auto_rows": null,
            "grid_gap": null,
            "max_width": null,
            "order": null,
            "_view_module_version": "1.2.0",
            "grid_template_areas": null,
            "object_position": null,
            "object_fit": null,
            "grid_auto_columns": null,
            "margin": null,
            "display": null,
            "left": null
          }
        },
        "bf5e6a3e82b7447a8ee42c7606a9d27d": {
          "model_module": "@jupyter-widgets/controls",
          "model_name": "DropdownModel",
          "state": {
            "_options_labels": [
              "TSNE",
              "PCA"
            ],
            "_view_name": "DropdownView",
            "style": "IPY_MODEL_88d33b249f354bf38479c66f8c184cfa",
            "_dom_classes": [],
            "description": "Plot:",
            "_model_name": "DropdownModel",
            "index": 1,
            "_view_module": "@jupyter-widgets/controls",
            "_model_module_version": "1.5.0",
            "_view_count": null,
            "disabled": false,
            "_view_module_version": "1.5.0",
            "description_tooltip": null,
            "_model_module": "@jupyter-widgets/controls",
            "layout": "IPY_MODEL_fecd222d26c34f8ba761f198f6696907"
          }
        },
        "3a5f0731fc4a45608266d2122fa328e7": {
          "model_module": "@jupyter-widgets/output",
          "model_name": "OutputModel",
          "state": {
            "_view_name": "OutputView",
            "msg_id": "",
            "_dom_classes": [],
            "_model_name": "OutputModel",
            "outputs": [
              {
                "output_type": "display_data",
                "metadata": {
                  "tags": [],
                  "needs_background": "light"
                },
                "image/png": "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\n",
                "text/plain": "<Figure size 576x576 with 1 Axes>"
              }
            ],
            "_view_module": "@jupyter-widgets/output",
            "_model_module_version": "1.0.0",
            "_view_count": null,
            "_view_module_version": "1.0.0",
            "layout": "IPY_MODEL_af8e15eb4ee24b208749cb3d98c1b6c5",
            "_model_module": "@jupyter-widgets/output"
          }
        },
        "88d33b249f354bf38479c66f8c184cfa": {
          "model_module": "@jupyter-widgets/controls",
          "model_name": "DescriptionStyleModel",
          "state": {
            "_view_name": "StyleView",
            "_model_name": "DescriptionStyleModel",
            "description_width": "",
            "_view_module": "@jupyter-widgets/base",
            "_model_module_version": "1.5.0",
            "_view_count": null,
            "_view_module_version": "1.2.0",
            "_model_module": "@jupyter-widgets/controls"
          }
        },
        "fecd222d26c34f8ba761f198f6696907": {
          "model_module": "@jupyter-widgets/base",
          "model_name": "LayoutModel",
          "state": {
            "_view_name": "LayoutView",
            "grid_template_rows": null,
            "right": null,
            "justify_content": null,
            "_view_module": "@jupyter-widgets/base",
            "overflow": null,
            "_model_module_version": "1.2.0",
            "_view_count": null,
            "flex_flow": null,
            "width": null,
            "min_width": null,
            "border": null,
            "align_items": null,
            "bottom": null,
            "_model_module": "@jupyter-widgets/base",
            "top": null,
            "grid_column": null,
            "overflow_y": null,
            "overflow_x": null,
            "grid_auto_flow": null,
            "grid_area": null,
            "grid_template_columns": null,
            "flex": null,
            "_model_name": "LayoutModel",
            "justify_items": null,
            "grid_row": null,
            "max_height": null,
            "align_content": null,
            "visibility": null,
            "align_self": null,
            "height": null,
            "min_height": null,
            "padding": null,
            "grid_auto_rows": null,
            "grid_gap": null,
            "max_width": null,
            "order": null,
            "_view_module_version": "1.2.0",
            "grid_template_areas": null,
            "object_position": null,
            "object_fit": null,
            "grid_auto_columns": null,
            "margin": null,
            "display": null,
            "left": null
          }
        },
        "af8e15eb4ee24b208749cb3d98c1b6c5": {
          "model_module": "@jupyter-widgets/base",
          "model_name": "LayoutModel",
          "state": {
            "_view_name": "LayoutView",
            "grid_template_rows": null,
            "right": null,
            "justify_content": null,
            "_view_module": "@jupyter-widgets/base",
            "overflow": null,
            "_model_module_version": "1.2.0",
            "_view_count": null,
            "flex_flow": null,
            "width": null,
            "min_width": null,
            "border": null,
            "align_items": null,
            "bottom": null,
            "_model_module": "@jupyter-widgets/base",
            "top": null,
            "grid_column": null,
            "overflow_y": null,
            "overflow_x": null,
            "grid_auto_flow": null,
            "grid_area": null,
            "grid_template_columns": null,
            "flex": null,
            "_model_name": "LayoutModel",
            "justify_items": null,
            "grid_row": null,
            "max_height": null,
            "align_content": null,
            "visibility": null,
            "align_self": null,
            "height": null,
            "min_height": null,
            "padding": null,
            "grid_auto_rows": null,
            "grid_gap": null,
            "max_width": null,
            "order": null,
            "_view_module_version": "1.2.0",
            "grid_template_areas": null,
            "object_position": null,
            "object_fit": null,
            "grid_auto_columns": null,
            "margin": null,
            "display": null,
            "left": null
          }
        },
        "404c6873161b445295d4e381f2392871": {
          "model_module": "@jupyter-widgets/controls",
          "model_name": "VBoxModel",
          "state": {
            "_view_name": "VBoxView",
            "_dom_classes": [
              "widget-interact"
            ],
            "_model_name": "VBoxModel",
            "_view_module": "@jupyter-widgets/controls",
            "_model_module_version": "1.5.0",
            "_view_count": null,
            "_view_module_version": "1.5.0",
            "box_style": "",
            "layout": "IPY_MODEL_191b2c28401b474e9e94a96750260b7d",
            "_model_module": "@jupyter-widgets/controls",
            "children": [
              "IPY_MODEL_21ddf37dbe1b4676a14beb1296f93b3f",
              "IPY_MODEL_52ab191a880e4f02944d0725a91fc8bc"
            ]
          }
        },
        "191b2c28401b474e9e94a96750260b7d": {
          "model_module": "@jupyter-widgets/base",
          "model_name": "LayoutModel",
          "state": {
            "_view_name": "LayoutView",
            "grid_template_rows": null,
            "right": null,
            "justify_content": null,
            "_view_module": "@jupyter-widgets/base",
            "overflow": null,
            "_model_module_version": "1.2.0",
            "_view_count": null,
            "flex_flow": null,
            "width": null,
            "min_width": null,
            "border": null,
            "align_items": null,
            "bottom": null,
            "_model_module": "@jupyter-widgets/base",
            "top": null,
            "grid_column": null,
            "overflow_y": null,
            "overflow_x": null,
            "grid_auto_flow": null,
            "grid_area": null,
            "grid_template_columns": null,
            "flex": null,
            "_model_name": "LayoutModel",
            "justify_items": null,
            "grid_row": null,
            "max_height": null,
            "align_content": null,
            "visibility": null,
            "align_self": null,
            "height": null,
            "min_height": null,
            "padding": null,
            "grid_auto_rows": null,
            "grid_gap": null,
            "max_width": null,
            "order": null,
            "_view_module_version": "1.2.0",
            "grid_template_areas": null,
            "object_position": null,
            "object_fit": null,
            "grid_auto_columns": null,
            "margin": null,
            "display": null,
            "left": null
          }
        },
        "21ddf37dbe1b4676a14beb1296f93b3f": {
          "model_module": "@jupyter-widgets/controls",
          "model_name": "DropdownModel",
          "state": {
            "_options_labels": [
              "Influence",
              "TSNE",
              "PCA"
            ],
            "_view_name": "DropdownView",
            "style": "IPY_MODEL_5f34bfd25c7544e8a6732a1969ed824f",
            "_dom_classes": [],
            "description": "Plot:",
            "_model_name": "DropdownModel",
            "index": 0,
            "_view_module": "@jupyter-widgets/controls",
            "_model_module_version": "1.5.0",
            "_view_count": null,
            "disabled": false,
            "_view_module_version": "1.5.0",
            "description_tooltip": null,
            "_model_module": "@jupyter-widgets/controls",
            "layout": "IPY_MODEL_f5fa37880d1544538722522bedd7d1dc"
          }
        },
        "52ab191a880e4f02944d0725a91fc8bc": {
          "model_module": "@jupyter-widgets/output",
          "model_name": "OutputModel",
          "state": {
            "_view_name": "OutputView",
            "msg_id": "",
            "_dom_classes": [],
            "_model_name": "OutputModel",
            "outputs": [
              {
                "output_type": "display_data",
                "metadata": {
                  "tags": [],
                  "needs_background": "light"
                },
                "image/png": "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\n",
                "text/plain": "<Figure size 576x576 with 1 Axes>"
              }
            ],
            "_view_module": "@jupyter-widgets/output",
            "_model_module_version": "1.0.0",
            "_view_count": null,
            "_view_module_version": "1.0.0",
            "layout": "IPY_MODEL_0d0c5cec580548fb87b29b98ed939fa6",
            "_model_module": "@jupyter-widgets/output"
          }
        },
        "5f34bfd25c7544e8a6732a1969ed824f": {
          "model_module": "@jupyter-widgets/controls",
          "model_name": "DescriptionStyleModel",
          "state": {
            "_view_name": "StyleView",
            "_model_name": "DescriptionStyleModel",
            "description_width": "",
            "_view_module": "@jupyter-widgets/base",
            "_model_module_version": "1.5.0",
            "_view_count": null,
            "_view_module_version": "1.2.0",
            "_model_module": "@jupyter-widgets/controls"
          }
        },
        "f5fa37880d1544538722522bedd7d1dc": {
          "model_module": "@jupyter-widgets/base",
          "model_name": "LayoutModel",
          "state": {
            "_view_name": "LayoutView",
            "grid_template_rows": null,
            "right": null,
            "justify_content": null,
            "_view_module": "@jupyter-widgets/base",
            "overflow": null,
            "_model_module_version": "1.2.0",
            "_view_count": null,
            "flex_flow": null,
            "width": null,
            "min_width": null,
            "border": null,
            "align_items": null,
            "bottom": null,
            "_model_module": "@jupyter-widgets/base",
            "top": null,
            "grid_column": null,
            "overflow_y": null,
            "overflow_x": null,
            "grid_auto_flow": null,
            "grid_area": null,
            "grid_template_columns": null,
            "flex": null,
            "_model_name": "LayoutModel",
            "justify_items": null,
            "grid_row": null,
            "max_height": null,
            "align_content": null,
            "visibility": null,
            "align_self": null,
            "height": null,
            "min_height": null,
            "padding": null,
            "grid_auto_rows": null,
            "grid_gap": null,
            "max_width": null,
            "order": null,
            "_view_module_version": "1.2.0",
            "grid_template_areas": null,
            "object_position": null,
            "object_fit": null,
            "grid_auto_columns": null,
            "margin": null,
            "display": null,
            "left": null
          }
        },
        "0d0c5cec580548fb87b29b98ed939fa6": {
          "model_module": "@jupyter-widgets/base",
          "model_name": "LayoutModel",
          "state": {
            "_view_name": "LayoutView",
            "grid_template_rows": null,
            "right": null,
            "justify_content": null,
            "_view_module": "@jupyter-widgets/base",
            "overflow": null,
            "_model_module_version": "1.2.0",
            "_view_count": null,
            "flex_flow": null,
            "width": null,
            "min_width": null,
            "border": null,
            "align_items": null,
            "bottom": null,
            "_model_module": "@jupyter-widgets/base",
            "top": null,
            "grid_column": null,
            "overflow_y": null,
            "overflow_x": null,
            "grid_auto_flow": null,
            "grid_area": null,
            "grid_template_columns": null,
            "flex": null,
            "_model_name": "LayoutModel",
            "justify_items": null,
            "grid_row": null,
            "max_height": null,
            "align_content": null,
            "visibility": null,
            "align_self": null,
            "height": null,
            "min_height": null,
            "padding": null,
            "grid_auto_rows": null,
            "grid_gap": null,
            "max_width": null,
            "order": null,
            "_view_module_version": "1.2.0",
            "grid_template_areas": null,
            "object_position": null,
            "object_fit": null,
            "grid_auto_columns": null,
            "margin": null,
            "display": null,
            "left": null
          }
        }
      }
    }
  },
  "cells": [
    {
      "cell_type": "markdown",
      "metadata": {
        "id": "bz4xTKBST875"
      },
      "source": [
        "# Load data"
      ]
    },
    {
      "cell_type": "code",
      "metadata": {
        "colab": {
          "resources": {
            "http://localhost:8080/nbextensions/google.colab/files.js": {
              "data": "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",
              "ok": true,
              "headers": [
                [
                  "content-type",
                  "application/javascript"
                ]
              ],
              "status": 200,
              "status_text": ""
            }
          },
          "base_uri": "https://localhost:8080/",
          "height": 72
        },
        "id": "eoSH_GNe-WZk",
        "outputId": "83aa5d37-b18b-4d70-e019-0d713a44d20e"
      },
      "source": [
        "from google.colab import files\n",
        "\n",
        "# Load unzipped json\n",
        "uploaded = files.upload()"
      ],
      "execution_count": null,
      "outputs": [
        {
          "output_type": "display_data",
          "data": {
            "text/html": [
              "\n",
              "     <input type=\"file\" id=\"files-559bb90a-05c6-4323-91cf-ecec6a35978b\" name=\"files[]\" multiple disabled\n",
              "        style=\"border:none\" />\n",
              "     <output id=\"result-559bb90a-05c6-4323-91cf-ecec6a35978b\">\n",
              "      Upload widget is only available when the cell has been executed in the\n",
              "      current browser session. Please rerun this cell to enable.\n",
              "      </output>\n",
              "      <script src=\"/nbextensions/google.colab/files.js\"></script> "
            ],
            "text/plain": [
              "<IPython.core.display.HTML object>"
            ]
          },
          "metadata": {
            "tags": []
          }
        },
        {
          "output_type": "stream",
          "text": [
            "Saving atis_intents.csv to atis_intents.csv\n"
          ],
          "name": "stdout"
        }
      ]
    },
    {
      "cell_type": "code",
      "metadata": {
        "id": "T1IC9KNaJ0eb"
      },
      "source": [
        "import pandas as pd\n",
        "import io\n",
        "import numpy as np"
      ],
      "execution_count": null,
      "outputs": []
    },
    {
      "cell_type": "code",
      "metadata": {
        "colab": {
          "base_uri": "https://localhost:8080/"
        },
        "id": "AvYGMJBYYnaD",
        "outputId": "0a956e0e-fb37-4553-8ccf-d731c0798475"
      },
      "source": [
        "df = pd.read_csv(io.BytesIO(uploaded['atis_intents.csv']), header=None)\n",
        "df = df.rename(columns={0: 'class', 1: 'question'})\n",
        "print(df)"
      ],
      "execution_count": null,
      "outputs": [
        {
          "output_type": "stream",
          "text": [
            "                 class                                           question\n",
            "0          atis_flight   i want to fly from boston at 838 am and arriv...\n",
            "1          atis_flight   what flights are available from pittsburgh to...\n",
            "2     atis_flight_time   what is the arrival time in san francisco for...\n",
            "3         atis_airfare            cheapest airfare from tacoma to orlando\n",
            "4         atis_airfare   round trip fares from pittsburgh to philadelp...\n",
            "...                ...                                                ...\n",
            "4973      atis_airfare   what is the airfare for flights from denver t...\n",
            "4974       atis_flight   do you have any flights from denver to baltim...\n",
            "4975      atis_airline          which airlines fly into and out of denver\n",
            "4976       atis_flight   does continental fly from boston to san franc...\n",
            "4977       atis_flight   is there a delta flight from denver to san fr...\n",
            "\n",
            "[4978 rows x 2 columns]\n"
          ],
          "name": "stdout"
        }
      ]
    },
    {
      "cell_type": "code",
      "metadata": {
        "id": "UEeTnG-DCZzy"
      },
      "source": [
        "mask = np.random.rand(len(df)) < 0.9\n",
        "\n",
        "training_set = df[mask]\n",
        "training_set = [v for k, v in training_set.to_dict(orient='index').items()]\n",
        "testing_set = df[~mask]\n",
        "testing_set = [v for k, v in testing_set.to_dict(orient='index').items()]\n",
        "\n",
        "classes = list(set(df['class']))\n",
        "n_targets = len(classes)\n",
        "\n",
        "class_map = {v: i for i, v in enumerate(classes)}\n",
        "inv_class_map = {v: k for k, v in class_map.items()}"
      ],
      "execution_count": null,
      "outputs": []
    },
    {
      "cell_type": "markdown",
      "metadata": {
        "id": "nRxJ7QwvUAUO"
      },
      "source": [
        "# Load pre-trained LM"
      ]
    },
    {
      "cell_type": "code",
      "metadata": {
        "colab": {
          "base_uri": "https://localhost:8080/"
        },
        "id": "GWO2YsvO-1Yo",
        "outputId": "d452941a-cecb-4102-9c0a-7569765ccd4f"
      },
      "source": [
        "!pip install sentence_transformers"
      ],
      "execution_count": null,
      "outputs": [
        {
          "output_type": "stream",
          "text": [
            "Collecting sentence_transformers\n",
            "\u001b[?25l  Downloading https://files.pythonhosted.org/packages/3b/fd/8a81047bbd9fa134a3f27e12937d2a487bd49d353a038916a5d7ed4e5543/sentence-transformers-2.0.0.tar.gz (85kB)\n",
            "\u001b[K     |████████████████████████████████| 92kB 9.5MB/s \n",
            "\u001b[?25hCollecting transformers<5.0.0,>=4.6.0\n",
            "\u001b[?25l  Downloading https://files.pythonhosted.org/packages/fd/1a/41c644c963249fd7f3836d926afa1e3f1cc234a1c40d80c5f03ad8f6f1b2/transformers-4.8.2-py3-none-any.whl (2.5MB)\n",
            "\u001b[K     |████████████████████████████████| 2.5MB 38.9MB/s \n",
            "\u001b[?25hRequirement already satisfied: tqdm in /usr/local/lib/python3.7/dist-packages (from sentence_transformers) (4.41.1)\n",
            "Requirement already satisfied: torch>=1.6.0 in /usr/local/lib/python3.7/dist-packages (from sentence_transformers) (1.9.0+cu102)\n",
            "Requirement already satisfied: torchvision in /usr/local/lib/python3.7/dist-packages (from sentence_transformers) (0.10.0+cu102)\n",
            "Requirement already satisfied: numpy in /usr/local/lib/python3.7/dist-packages (from sentence_transformers) (1.19.5)\n",
            "Requirement already satisfied: scikit-learn in /usr/local/lib/python3.7/dist-packages (from sentence_transformers) (0.22.2.post1)\n",
            "Requirement already satisfied: scipy in /usr/local/lib/python3.7/dist-packages (from sentence_transformers) (1.4.1)\n",
            "Requirement already satisfied: nltk in /usr/local/lib/python3.7/dist-packages (from sentence_transformers) (3.2.5)\n",
            "Collecting sentencepiece\n",
            "\u001b[?25l  Downloading https://files.pythonhosted.org/packages/ac/aa/1437691b0c7c83086ebb79ce2da16e00bef024f24fec2a5161c35476f499/sentencepiece-0.1.96-cp37-cp37m-manylinux_2_17_x86_64.manylinux2014_x86_64.whl (1.2MB)\n",
            "\u001b[K     |████████████████████████████████| 1.2MB 56.2MB/s \n",
            "\u001b[?25hCollecting huggingface-hub\n",
            "  Downloading https://files.pythonhosted.org/packages/35/03/071adc023c0a7e540cf4652fa9cad13ab32e6ae469bf0cc0262045244812/huggingface_hub-0.0.13-py3-none-any.whl\n",
            "Requirement already satisfied: pyyaml in /usr/local/lib/python3.7/dist-packages (from transformers<5.0.0,>=4.6.0->sentence_transformers) (3.13)\n",
            "Requirement already satisfied: regex!=2019.12.17 in /usr/local/lib/python3.7/dist-packages (from transformers<5.0.0,>=4.6.0->sentence_transformers) (2019.12.20)\n",
            "Collecting sacremoses\n",
            "\u001b[?25l  Downloading https://files.pythonhosted.org/packages/75/ee/67241dc87f266093c533a2d4d3d69438e57d7a90abb216fa076e7d475d4a/sacremoses-0.0.45-py3-none-any.whl (895kB)\n",
            "\u001b[K     |████████████████████████████████| 901kB 53.4MB/s \n",
            "\u001b[?25hRequirement already satisfied: requests in /usr/local/lib/python3.7/dist-packages (from transformers<5.0.0,>=4.6.0->sentence_transformers) (2.23.0)\n",
            "Requirement already satisfied: packaging in /usr/local/lib/python3.7/dist-packages (from transformers<5.0.0,>=4.6.0->sentence_transformers) (20.9)\n",
            "Requirement already satisfied: importlib-metadata; python_version < \"3.8\" in /usr/local/lib/python3.7/dist-packages (from transformers<5.0.0,>=4.6.0->sentence_transformers) (4.5.0)\n",
            "Requirement already satisfied: filelock in /usr/local/lib/python3.7/dist-packages (from transformers<5.0.0,>=4.6.0->sentence_transformers) (3.0.12)\n",
            "Collecting tokenizers<0.11,>=0.10.1\n",
            "\u001b[?25l  Downloading https://files.pythonhosted.org/packages/d4/e2/df3543e8ffdab68f5acc73f613de9c2b155ac47f162e725dcac87c521c11/tokenizers-0.10.3-cp37-cp37m-manylinux_2_5_x86_64.manylinux1_x86_64.manylinux_2_12_x86_64.manylinux2010_x86_64.whl (3.3MB)\n",
            "\u001b[K     |████████████████████████████████| 3.3MB 53.7MB/s \n",
            "\u001b[?25hRequirement already satisfied: typing-extensions in /usr/local/lib/python3.7/dist-packages (from torch>=1.6.0->sentence_transformers) (3.7.4.3)\n",
            "Requirement already satisfied: pillow>=5.3.0 in /usr/local/lib/python3.7/dist-packages (from torchvision->sentence_transformers) (7.1.2)\n",
            "Requirement already satisfied: joblib>=0.11 in /usr/local/lib/python3.7/dist-packages (from scikit-learn->sentence_transformers) (1.0.1)\n",
            "Requirement already satisfied: six in /usr/local/lib/python3.7/dist-packages (from nltk->sentence_transformers) (1.15.0)\n",
            "Requirement already satisfied: click in /usr/local/lib/python3.7/dist-packages (from sacremoses->transformers<5.0.0,>=4.6.0->sentence_transformers) (7.1.2)\n",
            "Requirement already satisfied: idna<3,>=2.5 in /usr/local/lib/python3.7/dist-packages (from requests->transformers<5.0.0,>=4.6.0->sentence_transformers) (2.10)\n",
            "Requirement already satisfied: certifi>=2017.4.17 in /usr/local/lib/python3.7/dist-packages (from requests->transformers<5.0.0,>=4.6.0->sentence_transformers) (2021.5.30)\n",
            "Requirement already satisfied: chardet<4,>=3.0.2 in /usr/local/lib/python3.7/dist-packages (from requests->transformers<5.0.0,>=4.6.0->sentence_transformers) (3.0.4)\n",
            "Requirement already satisfied: urllib3!=1.25.0,!=1.25.1,<1.26,>=1.21.1 in /usr/local/lib/python3.7/dist-packages (from requests->transformers<5.0.0,>=4.6.0->sentence_transformers) (1.24.3)\n",
            "Requirement already satisfied: pyparsing>=2.0.2 in /usr/local/lib/python3.7/dist-packages (from packaging->transformers<5.0.0,>=4.6.0->sentence_transformers) (2.4.7)\n",
            "Requirement already satisfied: zipp>=0.5 in /usr/local/lib/python3.7/dist-packages (from importlib-metadata; python_version < \"3.8\"->transformers<5.0.0,>=4.6.0->sentence_transformers) (3.4.1)\n",
            "Building wheels for collected packages: sentence-transformers\n",
            "  Building wheel for sentence-transformers (setup.py) ... \u001b[?25l\u001b[?25hdone\n",
            "  Created wheel for sentence-transformers: filename=sentence_transformers-2.0.0-cp37-none-any.whl size=126711 sha256=47ce2446a85b88fb6cc532d7a1183fcc5b410c848dd3688372052e9e15aec7e1\n",
            "  Stored in directory: /root/.cache/pip/wheels/38/d2/98/d191289a877a34c68aa67e05179521e060f96394a3e9336be6\n",
            "Successfully built sentence-transformers\n",
            "\u001b[31mERROR: transformers 4.8.2 has requirement huggingface-hub==0.0.12, but you'll have huggingface-hub 0.0.13 which is incompatible.\u001b[0m\n",
            "Installing collected packages: sacremoses, huggingface-hub, tokenizers, transformers, sentencepiece, sentence-transformers\n",
            "Successfully installed huggingface-hub-0.0.13 sacremoses-0.0.45 sentence-transformers-2.0.0 sentencepiece-0.1.96 tokenizers-0.10.3 transformers-4.8.2\n"
          ],
          "name": "stdout"
        }
      ]
    },
    {
      "cell_type": "code",
      "metadata": {
        "id": "a_B3Ve6gBpmJ",
        "colab": {
          "base_uri": "https://localhost:8080/",
          "height": 654,
          "referenced_widgets": [
            "0c9c24dae0984712b2e262c14c04579f",
            "def7255490664fa28617a18d11bb7903",
            "ee028cdfb9604595a714376e5a8e949c",
            "8541c138ec7743e390b068e6932d7703",
            "c2aa6451c1584192a3e7fc7a7a78d371",
            "ebe8c65e1d3f415788dcf4ca380a6233",
            "ea9e80196f784deda0189d0acaf62282",
            "23b2c30ce57047e5bce4c0d9d8b9fae3",
            "3ec0e9bb848e4fa7bd11fd7f7790f925",
            "53bf94bbe79a4719942393e66a6a55d5",
            "0b3fa0a6b9c44ef0a9d0743260772890",
            "7da9194bd1334587ae00155c62801241",
            "f09670c45b16481e8c20bc6982d3ded5",
            "cddf317685dd428190eec9d73b6097b9",
            "59782cc08eef41bf81af499c3de18b65",
            "154d14721cd542539552cf317b96e253",
            "8092a128a6c44c1a9bbcf016a5304fc0",
            "a9ee22617fe540008ffd16e554962b7e",
            "f8c157189a214e29b8ba2811e522cd36",
            "a1f14d112425403ab6efe3042746b58f",
            "19e433b22bfa42148b8d64fc6a5c859c",
            "6e9a4aa529be4ae9aed536fb9b5a6679",
            "076a5ff1329c43ddaaac2bdb614bef7b",
            "3a814ee534424ab5b47f61cec342c963",
            "c7d8eebc77f841d38b93567c31bfef88",
            "0dcf705dd0a54674a1655e00cf7a7be8",
            "95b1de9592074253b21877b10984a100",
            "90ab5fff66284a31ae6465b8009e64b9",
            "12fbe2e754564c7c87531ee455dafc9d",
            "815db26360a14132a082be17dc17cd22",
            "2d979a2a8aba45ce82ed609b6c6fbdf5",
            "3fbda1f6e31048dabeefc595589afde7",
            "02adb55303f746f58e98516fe65b246c",
            "ce2a0502877e4ce79fd2a06bba9d0005",
            "d62c1bd101384474ac88202acc6da50b",
            "ffbbdc8511c043a9a15c6317abe4e7e9",
            "ce1823d5579144488ac495cf934d1df0",
            "f0a7cd80919646fea706a03f3a7ebe2a",
            "930974c6a485436a8bf186b5b5b90837",
            "4558536a730a425fa9e9523c689ce253",
            "e06af2d4f82448d08a47abfa974f1bdb",
            "110e18d7865245ceab5ff330f15a1f3d",
            "260a3e14dfc44fc897a319f19c1836bc",
            "32eaabb51954495887a4b353bb6a624e",
            "fa4b15667ac242d684ce86f2bdb32285",
            "33a74d63df9747e298adfe7b1145ded7",
            "4fd753f7b18c44a88afdfb70418e1d93",
            "5aa55c31e3bc4680862b02164cec4da3",
            "e1c3c5b345614499b536d26319cdd80c",
            "f8b0a1b029a54ec49b65b294dc225bd7",
            "d2417ec0f0134e58ac75077ab6bd5298",
            "0c2965deea7e4280bb95e211832864e2",
            "f31afb4fc24f4320b95d24022479147d",
            "798e49227e044e8eb35b3662cd0616a9",
            "485a7a0d949149e984c7126100478ed8",
            "d9b646f129a94bc3b44a2b18fd9ca25b",
            "e68af81530cf43dda3d814d1a1456b40",
            "b40951dc709a42c9bd8a5da6eb111451",
            "89eb01fc137d474da1a3b0487edb0627",
            "ac623d524ef9458ea7954600d1b2972f",
            "d6c2224a534f4fb99ab7f758f53e3dd6",
            "1f38e77d635f4b6e9916927ab6ba04b8",
            "71a4265389434d56b3dc9d9990832f50",
            "9eee6cb72b8f4f82b91bd80c669ddd47",
            "af6d7074ac4347fd97758046e809bc6c",
            "116db48a76f84dc484942a88c74b0203",
            "697eb9c94f3a40dd8c339efde1f47d6c",
            "919d75ae4c084f3eaa28d9826e6bcdb1",
            "a5b563df3c0446b7bb3c34cde9415fa0",
            "3c317fd7752a4783ae028ac2dfa86d7c",
            "34aa05d7fddc4f919bac86f41679ae6a",
            "510639c635c44699a0c404c5032fc728",
            "a423e323e1564e8a9223885e10186696",
            "22e6331f5e5e4152bc1129adfd2ab51a",
            "c23f12d7aafe43a7a05889d8d9ecd078",
            "b92ec09a912742a5b57673653459cc08",
            "614f1249139b4ab1a7774f0d4d9e97b7",
            "88f6c2cc8436427caa7cb2eebfc1508c",
            "f570cf651b3b4694b0071467e6b18f85",
            "ca65b4589b9343ea802933ae1fac6da1",
            "e0d778b6578e412184933de8de5f754d",
            "7deebca2ef9c467aa9f087ed2239ac21",
            "589e064291f64748abb86f01ab75d5da",
            "4b7af7dbaf094ccca619f6ccbbf9f6c9",
            "e3834c708c3b4e98a19ce5601a7a0780",
            "cdfd65705e6e4f63a2f7e64b3436507d",
            "5b369f0bc8594f95b300168ccd054eb6",
            "f9954b10556747ddbb144c33b5562177",
            "63bf0219abec438a935b0c9f25ceff4d",
            "e17a665f95d74c9d88c5e4c71faba9a2",
            "14f83ac8ba3f47cb9422c57783b2cbcd",
            "193250e31877443b9ae4859c4e36cdac",
            "beaee5d780194c3a8b59d709edbdb91f",
            "cca5a22b45e044569f504c387febb2e2",
            "cc8f0ac2b66749e3bf39c5568fef1523",
            "e965b142a3ac41c8b6bb83499fe22e2f",
            "5b542ebf128748aca496c0e82b822956",
            "e33d29b718c74b71b44b794639ce560e",
            "32eae07ce9094e8faa56f871c0731295",
            "f5ab58e4a70b4433955b4feb75bbb55c",
            "51ab37b99bd844a0860f1dad930d9674",
            "38dfec803244405da2fddd271805999f",
            "906d6316d39c456f8d31a41f4550938f",
            "4ff9e9960c2c4a35b9390f9332a3d96e"
          ]
        },
        "outputId": "712cf4c8-c4d2-4feb-e2fa-f30be31ce717"
      },
      "source": [
        "from sentence_transformers import SentenceTransformer\n",
        "\n",
        "sentence_model = SentenceTransformer('paraphrase-distilroberta-base-v1').cuda()"
      ],
      "execution_count": null,
      "outputs": [
        {
          "output_type": "display_data",
          "data": {
            "application/vnd.jupyter.widget-view+json": {
              "model_id": "0c9c24dae0984712b2e262c14c04579f",
              "version_minor": 0,
              "version_major": 2
            },
            "text/plain": [
              "HBox(children=(FloatProgress(value=0.0, description='Downloading', max=391.0, style=ProgressStyle(description_…"
            ]
          },
          "metadata": {
            "tags": []
          }
        },
        {
          "output_type": "stream",
          "text": [
            "\n"
          ],
          "name": "stdout"
        },
        {
          "output_type": "display_data",
          "data": {
            "application/vnd.jupyter.widget-view+json": {
              "model_id": "3ec0e9bb848e4fa7bd11fd7f7790f925",
              "version_minor": 0,
              "version_major": 2
            },
            "text/plain": [
              "HBox(children=(FloatProgress(value=0.0, description='Downloading', max=3721.0, style=ProgressStyle(description…"
            ]
          },
          "metadata": {
            "tags": []
          }
        },
        {
          "output_type": "stream",
          "text": [
            "\n"
          ],
          "name": "stdout"
        },
        {
          "output_type": "display_data",
          "data": {
            "application/vnd.jupyter.widget-view+json": {
              "model_id": "8092a128a6c44c1a9bbcf016a5304fc0",
              "version_minor": 0,
              "version_major": 2
            },
            "text/plain": [
              "HBox(children=(FloatProgress(value=0.0, description='Downloading', max=718.0, style=ProgressStyle(description_…"
            ]
          },
          "metadata": {
            "tags": []
          }
        },
        {
          "output_type": "stream",
          "text": [
            "\n"
          ],
          "name": "stdout"
        },
        {
          "output_type": "display_data",
          "data": {
            "application/vnd.jupyter.widget-view+json": {
              "model_id": "c7d8eebc77f841d38b93567c31bfef88",
              "version_minor": 0,
              "version_major": 2
            },
            "text/plain": [
              "HBox(children=(FloatProgress(value=0.0, description='Downloading', max=122.0, style=ProgressStyle(description_…"
            ]
          },
          "metadata": {
            "tags": []
          }
        },
        {
          "output_type": "stream",
          "text": [
            "\n"
          ],
          "name": "stdout"
        },
        {
          "output_type": "display_data",
          "data": {
            "application/vnd.jupyter.widget-view+json": {
              "model_id": "02adb55303f746f58e98516fe65b246c",
              "version_minor": 0,
              "version_major": 2
            },
            "text/plain": [
              "HBox(children=(FloatProgress(value=0.0, description='Downloading', max=456356.0, style=ProgressStyle(descripti…"
            ]
          },
          "metadata": {
            "tags": []
          }
        },
        {
          "output_type": "stream",
          "text": [
            "\n"
          ],
          "name": "stdout"
        },
        {
          "output_type": "display_data",
          "data": {
            "application/vnd.jupyter.widget-view+json": {
              "model_id": "e06af2d4f82448d08a47abfa974f1bdb",
              "version_minor": 0,
              "version_major": 2
            },
            "text/plain": [
              "HBox(children=(FloatProgress(value=0.0, description='Downloading', max=229.0, style=ProgressStyle(description_…"
            ]
          },
          "metadata": {
            "tags": []
          }
        },
        {
          "output_type": "stream",
          "text": [
            "\n"
          ],
          "name": "stdout"
        },
        {
          "output_type": "display_data",
          "data": {
            "application/vnd.jupyter.widget-view+json": {
              "model_id": "e1c3c5b345614499b536d26319cdd80c",
              "version_minor": 0,
              "version_major": 2
            },
            "text/plain": [
              "HBox(children=(FloatProgress(value=0.0, description='Downloading', max=328515953.0, style=ProgressStyle(descri…"
            ]
          },
          "metadata": {
            "tags": []
          }
        },
        {
          "output_type": "stream",
          "text": [
            "\n"
          ],
          "name": "stdout"
        },
        {
          "output_type": "display_data",
          "data": {
            "application/vnd.jupyter.widget-view+json": {
              "model_id": "e68af81530cf43dda3d814d1a1456b40",
              "version_minor": 0,
              "version_major": 2
            },
            "text/plain": [
              "HBox(children=(FloatProgress(value=0.0, description='Downloading', max=53.0, style=ProgressStyle(description_w…"
            ]
          },
          "metadata": {
            "tags": []
          }
        },
        {
          "output_type": "stream",
          "text": [
            "\n"
          ],
          "name": "stdout"
        },
        {
          "output_type": "display_data",
          "data": {
            "application/vnd.jupyter.widget-view+json": {
              "model_id": "af6d7074ac4347fd97758046e809bc6c",
              "version_minor": 0,
              "version_major": 2
            },
            "text/plain": [
              "HBox(children=(FloatProgress(value=0.0, description='Downloading', max=239.0, style=ProgressStyle(description_…"
            ]
          },
          "metadata": {
            "tags": []
          }
        },
        {
          "output_type": "stream",
          "text": [
            "\n"
          ],
          "name": "stdout"
        },
        {
          "output_type": "display_data",
          "data": {
            "application/vnd.jupyter.widget-view+json": {
              "model_id": "a423e323e1564e8a9223885e10186696",
              "version_minor": 0,
              "version_major": 2
            },
            "text/plain": [
              "HBox(children=(FloatProgress(value=0.0, description='Downloading', max=1355881.0, style=ProgressStyle(descript…"
            ]
          },
          "metadata": {
            "tags": []
          }
        },
        {
          "output_type": "stream",
          "text": [
            "\n"
          ],
          "name": "stdout"
        },
        {
          "output_type": "display_data",
          "data": {
            "application/vnd.jupyter.widget-view+json": {
              "model_id": "e0d778b6578e412184933de8de5f754d",
              "version_minor": 0,
              "version_major": 2
            },
            "text/plain": [
              "HBox(children=(FloatProgress(value=0.0, description='Downloading', max=1352.0, style=ProgressStyle(description…"
            ]
          },
          "metadata": {
            "tags": []
          }
        },
        {
          "output_type": "stream",
          "text": [
            "\n"
          ],
          "name": "stdout"
        },
        {
          "output_type": "display_data",
          "data": {
            "application/vnd.jupyter.widget-view+json": {
              "model_id": "63bf0219abec438a935b0c9f25ceff4d",
              "version_minor": 0,
              "version_major": 2
            },
            "text/plain": [
              "HBox(children=(FloatProgress(value=0.0, description='Downloading', max=798293.0, style=ProgressStyle(descripti…"
            ]
          },
          "metadata": {
            "tags": []
          }
        },
        {
          "output_type": "stream",
          "text": [
            "\n"
          ],
          "name": "stdout"
        },
        {
          "output_type": "display_data",
          "data": {
            "application/vnd.jupyter.widget-view+json": {
              "model_id": "5b542ebf128748aca496c0e82b822956",
              "version_minor": 0,
              "version_major": 2
            },
            "text/plain": [
              "HBox(children=(FloatProgress(value=0.0, description='Downloading', max=190.0, style=ProgressStyle(description_…"
            ]
          },
          "metadata": {
            "tags": []
          }
        },
        {
          "output_type": "stream",
          "text": [
            "\n"
          ],
          "name": "stdout"
        }
      ]
    },
    {
      "cell_type": "code",
      "metadata": {
        "colab": {
          "base_uri": "https://localhost:8080/"
        },
        "id": "vOLRithd0iQq",
        "outputId": "b6bea2c6-c5b4-4b14-b369-c55493b3793b"
      },
      "source": [
        "sentences = ['This framework generates embeddings for each input sentence',\n",
        "    'Sentences are passed as a list of string.', \n",
        "    'The quick brown fox jumps over the lazy dog.']\n",
        "sentence_embeddings = sentence_model.encode(sentences)\n",
        "\n",
        "# Check that it's all working\n",
        "print(sentence_embeddings.shape)"
      ],
      "execution_count": null,
      "outputs": [
        {
          "output_type": "stream",
          "text": [
            "(3, 768)\n"
          ],
          "name": "stdout"
        }
      ]
    },
    {
      "cell_type": "markdown",
      "metadata": {
        "id": "i1S2PHh4UDTw"
      },
      "source": [
        "# JAX based classifier"
      ]
    },
    {
      "cell_type": "code",
      "metadata": {
        "id": "2ToRBmS4nbCc"
      },
      "source": [
        "import time\n",
        "\n",
        "import jax.numpy as jnp\n",
        "\n",
        "from jax import grad, jit, vmap, value_and_grad\n",
        "from jax import random\n",
        "\n",
        "from jax.scipy.special import logsumexp\n",
        "from jax.experimental import optimizers\n",
        "\n",
        "from torch.utils import data"
      ],
      "execution_count": null,
      "outputs": []
    },
    {
      "cell_type": "code",
      "metadata": {
        "id": "jfU19KjH6rFJ"
      },
      "source": [
        "class SentenceDataset(data.Dataset):\n",
        "    def __init__(self, dataset):\n",
        "        self.dataset = dataset\n",
        "\n",
        "    def __len__(self):\n",
        "        return len(self.dataset)\n",
        "\n",
        "    def __getitem__(self, idx):\n",
        "        data = self.dataset[idx]\n",
        "\n",
        "        return data['question'], class_map[data['class']]\n",
        "\n",
        "\n",
        "def numpy_collate(batch):\n",
        "    sentences = [i[0] for i in batch]\n",
        "    labels = np.array([i[1] for i in batch])\n",
        "\n",
        "    sentence_embeddings = sentence_model.encode(sentences)\n",
        "    \n",
        "    return sentence_embeddings, labels\n",
        "\n",
        "\n",
        "class SentenceLoader(data.DataLoader):\n",
        "    def __init__(self, dataset, batch_size=1,\n",
        "                shuffle=False, sampler=None,\n",
        "                batch_sampler=None, num_workers=0,\n",
        "                pin_memory=False, drop_last=False,\n",
        "                timeout=0, worker_init_fn=None):\n",
        "        super(self.__class__, self).__init__(dataset,\n",
        "            batch_size=batch_size,\n",
        "            shuffle=shuffle,\n",
        "            sampler=sampler,\n",
        "            batch_sampler=batch_sampler,\n",
        "            num_workers=num_workers,\n",
        "            collate_fn=numpy_collate,\n",
        "            pin_memory=pin_memory,\n",
        "            drop_last=drop_last,\n",
        "            timeout=timeout,\n",
        "            worker_init_fn=worker_init_fn)"
      ],
      "execution_count": null,
      "outputs": []
    },
    {
      "cell_type": "code",
      "metadata": {
        "id": "XT0_KSrF6V9A"
      },
      "source": [
        "def relu(x):\n",
        "    return jnp.maximum(0, x)\n",
        "\n",
        "def predict(params, image):\n",
        "  # per-example predictions\n",
        "    activations = image\n",
        "    for w, b in params[:-1]:\n",
        "        outputs = jnp.dot(w, activations) + b\n",
        "        activations = relu(outputs)\n",
        "  \n",
        "    final_w, final_b = params[-1]\n",
        "    logits = jnp.dot(final_w, activations) + final_b\n",
        "    return logits - logsumexp(logits)\n",
        "\n",
        "batched_predict = vmap(predict, in_axes=(None, 0))"
      ],
      "execution_count": null,
      "outputs": []
    },
    {
      "cell_type": "code",
      "metadata": {
        "id": "o8Eh3CTG6iNR"
      },
      "source": [
        "def one_hot(x, k, dtype=jnp.float32):\n",
        "    \"\"\"Create a one-hot encoding of x of size k.\"\"\"\n",
        "    return jnp.array(x[:, None] == jnp.arange(k), dtype)\n",
        "  \n",
        "def accuracy(params, images, targets):\n",
        "    target_class = jnp.argmax(targets, axis=1)\n",
        "    predicted_class = jnp.argmax(batched_predict(params, images), axis=1)\n",
        "    return jnp.mean(predicted_class == target_class)\n",
        "\n",
        "def loss(params, images, targets):\n",
        "    preds = batched_predict(params, images)\n",
        "    return -jnp.mean(preds * targets)\n",
        "\n",
        "@jit\n",
        "def update(i, params, x, y, opt_state):\n",
        "    grads = grad(loss)(params, x, y)\n",
        "    opt_state = opt_update(i, grads, opt_state)\n",
        "    return get_params(opt_state), opt_state"
      ],
      "execution_count": null,
      "outputs": []
    },
    {
      "cell_type": "code",
      "metadata": {
        "id": "FeSSFAXT6uUq"
      },
      "source": [
        "# Get the full train dataset (for checking accuracy while training)\n",
        "train_sentences = [i['question'] for i in training_set]\n",
        "train_sentences = sentence_model.encode(train_sentences)\n",
        "train_labels = [i['class'] for i in training_set]\n",
        "train_labels = np.array([class_map[i] for i in train_labels])\n",
        "train_labels = one_hot(train_labels, n_targets)"
      ],
      "execution_count": null,
      "outputs": []
    },
    {
      "cell_type": "markdown",
      "metadata": {
        "id": "KGGi90lmoAbz"
      },
      "source": [
        "### PCA"
      ]
    },
    {
      "cell_type": "code",
      "metadata": {
        "id": "azSA-hxln_wb"
      },
      "source": [
        "import matplotlib.pyplot as plt\n",
        "from ipywidgets import widgets, interactive\n",
        "from sklearn.decomposition import PCA\n",
        "from sklearn.manifold import TSNE"
      ],
      "execution_count": null,
      "outputs": []
    },
    {
      "cell_type": "code",
      "metadata": {
        "id": "RgXIlclwxXAv"
      },
      "source": [
        "train_pca = PCA(n_components=2).fit_transform(train_sentences)\n",
        "train_tsne = TSNE(n_components=2).fit_transform(train_sentences)"
      ],
      "execution_count": null,
      "outputs": []
    },
    {
      "cell_type": "code",
      "metadata": {
        "colab": {
          "base_uri": "https://localhost:8080/",
          "height": 515,
          "referenced_widgets": [
            "d37c3659743b40f0a62d5a45b8cad1bf",
            "d6cb9ed9901c4cea8fb6765ce72f2e41",
            "bf5e6a3e82b7447a8ee42c7606a9d27d",
            "3a5f0731fc4a45608266d2122fa328e7",
            "88d33b249f354bf38479c66f8c184cfa",
            "fecd222d26c34f8ba761f198f6696907",
            "af8e15eb4ee24b208749cb3d98c1b6c5"
          ]
        },
        "id": "RxlyVeDAxozd",
        "outputId": "574b3e75-cf57-41a3-dead-3e8c91807be1"
      },
      "source": [
        "graph_type = widgets.Dropdown(options=['TSNE', 'PCA'], value='PCA', description='Plot:')\n",
        "\n",
        "def draw_fn(graph_type):\n",
        "    plt.figure(figsize=(8, 8))\n",
        "    if graph_type == 'PCA':\n",
        "        colors = 'r', 'g', 'b', 'c', 'm', 'y', 'k', 'gray', 'orange', 'purple', 'brown', 'pink'\n",
        "        for c, label in zip(colors, classes):\n",
        "            points = [i for i, v in enumerate(training_set) if v['class'] == label]\n",
        "            plt.scatter(train_pca[points, 0], train_pca[points, 1], c=c, label=label)\n",
        "        plt.legend()\n",
        "    elif graph_type == 'TSNE':\n",
        "        colors = 'r', 'g', 'b', 'c', 'm', 'y', 'k', 'gray', 'orange', 'purple', 'brown', 'pink'\n",
        "        for c, label in zip(colors, classes):\n",
        "            points = [i for i, v in enumerate(training_set) if v['class'] == label]\n",
        "            plt.scatter(train_tsne[points, 0], train_tsne[points, 1], c=c, label=label)\n",
        "        plt.legend()\n",
        "    plt.show()\n",
        "\n",
        "interactive(draw_fn, graph_type=graph_type)"
      ],
      "execution_count": null,
      "outputs": [
        {
          "output_type": "display_data",
          "data": {
            "application/vnd.jupyter.widget-view+json": {
              "model_id": "d37c3659743b40f0a62d5a45b8cad1bf",
              "version_minor": 0,
              "version_major": 2
            },
            "text/plain": [
              "interactive(children=(Dropdown(description='Plot:', index=1, options=('TSNE', 'PCA'), value='PCA'), Output()),…"
            ]
          },
          "metadata": {
            "tags": []
          }
        }
      ]
    },
    {
      "cell_type": "markdown",
      "metadata": {
        "id": "ZGBpY8JDUIQY"
      },
      "source": [
        "### Classifier training"
      ]
    },
    {
      "cell_type": "code",
      "metadata": {
        "id": "dBiT-36t6Q9g"
      },
      "source": [
        "# A helper function to randomly initialize weights and biases\n",
        "# for a dense neural network layer\n",
        "def random_layer_params(m, n, key, scale=1e-2):\n",
        "    w_key, b_key = random.split(key)\n",
        "    return scale * random.normal(w_key, (n, m)), scale * random.normal(b_key, (n,))\n",
        "\n",
        "# Initialize all layers for a fully-connected neural network with sizes \"sizes\"\n",
        "def init_network_params(sizes, key):\n",
        "    keys = random.split(key, len(sizes))\n",
        "    return [random_layer_params(m, n, k) for m, n, k in zip(sizes[:-1], sizes[1:], keys)]\n",
        "\n",
        "layer_sizes = [768, 128, n_targets]\n",
        "step_size = 0.001\n",
        "num_epochs = 20\n",
        "batch_size = 64"
      ],
      "execution_count": null,
      "outputs": []
    },
    {
      "cell_type": "code",
      "metadata": {
        "id": "yAxlPyDs-piK"
      },
      "source": [
        "training_dataset = SentenceDataset(training_set)\n",
        "training_generator = SentenceLoader(training_dataset, shuffle=True, batch_size=batch_size, num_workers=0)"
      ],
      "execution_count": null,
      "outputs": []
    },
    {
      "cell_type": "code",
      "metadata": {
        "colab": {
          "base_uri": "https://localhost:8080/"
        },
        "id": "vDorj5ej6yBi",
        "outputId": "0ac6f778-9891-4115-b7eb-b961f552d00c"
      },
      "source": [
        "params = init_network_params(layer_sizes, random.PRNGKey(42))\n",
        "opt_init, opt_update, get_params = optimizers.adam(step_size)\n",
        "opt_state = opt_init(params)\n",
        "\n",
        "for epoch in range(num_epochs):\n",
        "    start_time = time.time()\n",
        "    for x, y in training_generator:\n",
        "        y = one_hot(y, n_targets)\n",
        "        params, opt_state = update(epoch, get_params(opt_state), x, y, opt_state)\n",
        "    epoch_time = time.time() - start_time\n",
        "\n",
        "    train_acc = accuracy(get_params(opt_state), train_sentences, train_labels)\n",
        "    print(\"Epoch {} in {:0.2f} sec\".format(epoch, epoch_time))\n",
        "    print(\"Training set accuracy {}\".format(train_acc))"
      ],
      "execution_count": null,
      "outputs": [
        {
          "output_type": "stream",
          "text": [
            "Epoch 0 in 4.54 sec\n",
            "Training set accuracy 0.882815957069397\n",
            "Epoch 1 in 3.56 sec\n",
            "Training set accuracy 0.9044084548950195\n",
            "Epoch 2 in 3.38 sec\n",
            "Training set accuracy 0.9120557308197021\n",
            "Epoch 3 in 3.44 sec\n",
            "Training set accuracy 0.9228519797325134\n",
            "Epoch 4 in 3.41 sec\n",
            "Training set accuracy 0.9304993152618408\n",
            "Epoch 5 in 3.46 sec\n",
            "Training set accuracy 0.9370220303535461\n",
            "Epoch 6 in 3.51 sec\n",
            "Training set accuracy 0.9417453408241272\n",
            "Epoch 7 in 3.55 sec\n",
            "Training set accuracy 0.9435447454452515\n",
            "Epoch 8 in 3.52 sec\n",
            "Training set accuracy 0.9455690383911133\n",
            "Epoch 9 in 3.53 sec\n",
            "Training set accuracy 0.9496176242828369\n",
            "Epoch 10 in 3.50 sec\n",
            "Training set accuracy 0.9518668055534363\n",
            "Epoch 11 in 3.51 sec\n",
            "Training set accuracy 0.9561403393745422\n",
            "Epoch 12 in 3.47 sec\n",
            "Training set accuracy 0.9599639773368835\n",
            "Epoch 13 in 3.49 sec\n",
            "Training set accuracy 0.9642375111579895\n",
            "Epoch 14 in 3.48 sec\n",
            "Training set accuracy 0.9662618041038513\n",
            "Epoch 15 in 3.49 sec\n",
            "Training set accuracy 0.9691857695579529\n",
            "Epoch 16 in 3.54 sec\n",
            "Training set accuracy 0.9694106578826904\n",
            "Epoch 17 in 3.51 sec\n",
            "Training set accuracy 0.9712100625038147\n",
            "Epoch 18 in 3.54 sec\n",
            "Training set accuracy 0.9734592437744141\n",
            "Epoch 19 in 3.59 sec\n",
            "Training set accuracy 0.9745838642120361\n"
          ],
          "name": "stdout"
        }
      ]
    },
    {
      "cell_type": "markdown",
      "metadata": {
        "id": "V49LDsGRUQHl"
      },
      "source": [
        "# Get worst performing test points"
      ]
    },
    {
      "cell_type": "code",
      "metadata": {
        "id": "O6fXxOinEXEY"
      },
      "source": [
        "testing_sentences = [i['question'] for i in testing_set]\n",
        "testing_sentences = sentence_model.encode(testing_sentences)\n",
        "testing_labels = [i['class'] for i in testing_set]\n",
        "testing_labels = np.array([class_map[i] for i in testing_labels])\n",
        "\n",
        "predicted_class = jnp.argmax(batched_predict(params, testing_sentences), axis=1)\n",
        "logprob = batched_predict(params, testing_sentences)\n",
        "pred_prob = jnp.exp(logprob)"
      ],
      "execution_count": null,
      "outputs": []
    },
    {
      "cell_type": "code",
      "metadata": {
        "colab": {
          "base_uri": "https://localhost:8080/"
        },
        "id": "sQ57yA6b91OR",
        "outputId": "cfaa5d17-53d2-4c64-a670-a426951b9236"
      },
      "source": [
        "wrong_indices = [i for i, x in enumerate(testing_labels != predicted_class) if x]\n",
        "print(wrong_indices)"
      ],
      "execution_count": null,
      "outputs": [
        {
          "output_type": "stream",
          "text": [
            "[27, 35, 44, 60, 82, 93, 122, 132, 138, 188, 200, 219, 236, 238, 264, 271, 310, 363, 398, 407, 413, 467, 473, 475, 494, 514]\n"
          ],
          "name": "stdout"
        }
      ]
    },
    {
      "cell_type": "markdown",
      "metadata": {
        "id": "JpxiHnU_UVA-"
      },
      "source": [
        "# Calculate influence functions"
      ]
    },
    {
      "cell_type": "code",
      "metadata": {
        "id": "cv8XhrKLeG_l"
      },
      "source": [
        "import jax\n",
        "\n",
        "from jax import jvp\n",
        "from jax.tree_util import tree_flatten, tree_leaves\n",
        "\n",
        "\n",
        "def hvp(params, x, t, v):\n",
        "    loss_fn = lambda params: loss(params, x, t)\n",
        "    return jvp(grad(loss_fn), (params,), (v,))[1]\n",
        "\n",
        "\n",
        "def single_loss(params, sentence, targets):\n",
        "    preds = predict(params, sentence)\n",
        "    return -jnp.mean(preds * targets)\n",
        "\n",
        "@jit\n",
        "def lissa_estimate(params, x, t, v, h_estimate, damp=0.01, scale=25):\n",
        "    # Recursively caclulate h_estimate\n",
        "    hv = hvp(params, x, t, h_estimate)\n",
        "    h_estimate = jax.tree_multimap(lambda x, y, z: x + (1 - damp) * y - z / scale, v, h_estimate, hv)\n",
        "    return h_estimate\n",
        "\n",
        "\n",
        "def get_s_test(z_test, t_test, params, z_loader, damp=0.01, scale=25.0,\n",
        "               recursion_depth=5000):\n",
        "    v = grad(single_loss)(params, z_test, t_test)\n",
        "    h_estimate = v.copy()\n",
        "    for depth in range(recursion_depth):\n",
        "        x, t = next(iter(z_loader))\n",
        "        t = one_hot(t, n_targets)\n",
        "        h_estimate = lissa_estimate(params, x, t, v, h_estimate,\n",
        "                                    damp=damp, scale=scale)\n",
        "\n",
        "        if depth % 500 == 0:\n",
        "            print(\"Calc. s_test recursions: \", depth, recursion_depth)\n",
        "\n",
        "    return h_estimate"
      ],
      "execution_count": null,
      "outputs": []
    },
    {
      "cell_type": "markdown",
      "metadata": {
        "id": "bVRg6sE2iemk"
      },
      "source": [
        "### Pick from an incorrect prediction"
      ]
    },
    {
      "cell_type": "code",
      "metadata": {
        "colab": {
          "base_uri": "https://localhost:8080/"
        },
        "id": "_pvIiBRrimZm",
        "outputId": "cbfca49e-eb46-4e0f-9ab9-c92e0c5d0f4f"
      },
      "source": [
        "idx = 2\n",
        "\n",
        "testing_id = wrong_indices[idx]\n",
        "print(\"Testing id:\", testing_id)"
      ],
      "execution_count": null,
      "outputs": [
        {
          "output_type": "stream",
          "text": [
            "Testing id: 44\n"
          ],
          "name": "stdout"
        }
      ]
    },
    {
      "cell_type": "code",
      "metadata": {
        "colab": {
          "base_uri": "https://localhost:8080/"
        },
        "id": "2mZyfIRRHtPw",
        "outputId": "7a5057b4-db3d-462e-9453-52314f1eb2b8"
      },
      "source": [
        "label_class = class_map[testing_set[testing_id]['class']]\n",
        "print(\"Sentence:\", testing_set[testing_id]['question'])\n",
        "print(\"True label:\", testing_set[testing_id]['class'])\n",
        "print(\"True label prob:\", pred_prob[testing_id][label_class])\n",
        "print(\"Predicted label:\", inv_class_map[int(predicted_class[testing_id])])\n",
        "print(\"Predicted prob:\", jnp.max(pred_prob[testing_id]))"
      ],
      "execution_count": null,
      "outputs": [
        {
          "output_type": "stream",
          "text": [
            "Sentence:  i would like the time of all flights from san francisco to pittsburgh on sunday\n",
            "True label: atis_flight_time\n",
            "True label prob: 0.2230697\n",
            "Predicted label: atis_flight\n",
            "Predicted prob: 0.7629005\n"
          ],
          "name": "stdout"
        }
      ]
    },
    {
      "cell_type": "code",
      "metadata": {
        "colab": {
          "base_uri": "https://localhost:8080/"
        },
        "id": "mBUfXEChOAgH",
        "outputId": "05dfdc04-0cfb-42ef-e0fd-17e0596eb595"
      },
      "source": [
        "print(testing_set[testing_id]['class'])\n",
        "print(class_map[testing_set[testing_id]['class']])\n",
        "print(testing_labels[testing_id])"
      ],
      "execution_count": null,
      "outputs": [
        {
          "output_type": "stream",
          "text": [
            "atis_flight_time\n",
            "10\n",
            "10\n"
          ],
          "name": "stdout"
        }
      ]
    },
    {
      "cell_type": "markdown",
      "metadata": {
        "id": "q6le10nq13bm"
      },
      "source": [
        "### Get s_test by calculating the hvp"
      ]
    },
    {
      "cell_type": "code",
      "metadata": {
        "colab": {
          "base_uri": "https://localhost:8080/"
        },
        "id": "uQ604FxLlbUE",
        "outputId": "f0f3174b-419a-492d-bde7-ae806649ba76"
      },
      "source": [
        "z_loader = SentenceLoader(training_dataset, shuffle=True, batch_size=1, num_workers=0)\n",
        "\n",
        "s_test = get_s_test(testing_sentences[testing_id], testing_labels[testing_id], params, z_loader)"
      ],
      "execution_count": null,
      "outputs": [
        {
          "output_type": "stream",
          "text": [
            "Calc. s_test recursions:  0 5000\n",
            "Calc. s_test recursions:  500 5000\n",
            "Calc. s_test recursions:  1000 5000\n",
            "Calc. s_test recursions:  1500 5000\n",
            "Calc. s_test recursions:  2000 5000\n",
            "Calc. s_test recursions:  2500 5000\n",
            "Calc. s_test recursions:  3000 5000\n",
            "Calc. s_test recursions:  3500 5000\n",
            "Calc. s_test recursions:  4000 5000\n",
            "Calc. s_test recursions:  4500 5000\n"
          ],
          "name": "stdout"
        }
      ]
    },
    {
      "cell_type": "markdown",
      "metadata": {
        "id": "sQWQfAcW1-Cd"
      },
      "source": [
        "### Get influence score for all training data"
      ]
    },
    {
      "cell_type": "code",
      "metadata": {
        "colab": {
          "base_uri": "https://localhost:8080/"
        },
        "id": "PuW_spUB_bD2",
        "outputId": "a5a0f1c8-9e96-4196-8ba7-84a7c3cc2cf7"
      },
      "source": [
        "from functools import partial\n",
        "\n",
        "z_loader = SentenceLoader(training_dataset, shuffle=False, batch_size=8, num_workers=0)\n",
        "\n",
        "@jit\n",
        "def get_influence(x, t, params, s_test):\n",
        "    grad_z_vec = grad(single_loss)(params, x, t)\n",
        "    tmp_influence = jax.tree_multimap(lambda x, y: x * y, grad_z_vec, s_test)\n",
        "    tmp_influence = -np.sum([jnp.sum(i) for i in tree_leaves(tmp_influence)]) / len(training_set)\n",
        "    return tmp_influence\n",
        "\n",
        "influences = []\n",
        "for i, (x, t) in enumerate(z_loader):\n",
        "    t = one_hot(t, n_targets)\n",
        "    z = [i for i in zip(x, t)]\n",
        "    tmp_influence = vmap(partial(get_influence, params=params, s_test=s_test), in_axes=(0, 0))(x, t)\n",
        "    influences.extend(tmp_influence)\n",
        "    if i % 50 == 0:\n",
        "        print(i)\n",
        "\n",
        "not_helpful = np.argsort(influences)\n",
        "helpful = not_helpful[::-1]"
      ],
      "execution_count": null,
      "outputs": [
        {
          "output_type": "stream",
          "text": [
            "0\n",
            "50\n",
            "100\n",
            "150\n",
            "200\n",
            "250\n",
            "300\n",
            "350\n",
            "400\n",
            "450\n",
            "500\n",
            "550\n"
          ],
          "name": "stdout"
        }
      ]
    },
    {
      "cell_type": "code",
      "metadata": {
        "colab": {
          "base_uri": "https://localhost:8080/",
          "height": 215
        },
        "id": "ZXQLFJ2zRYap",
        "outputId": "2731bbb2-1fb5-41e1-d408-7dab4ba6756e"
      },
      "source": [
        "col_labels = [\"Sentence\", \"Label\", \"Influence score\"]\n",
        "\n",
        "sentences = [training_set[i]['question'] for i in helpful[:10]]\n",
        "labels = [training_set[i]['class'] for i in helpful[:10]]\n",
        "influence_scores = [influences[i] for i in helpful[:10]]\n",
        "cell_text = [[i, j, k] for i, j, k in zip(sentences, labels, influence_scores)]\n",
        "\n",
        "fig2, ax2 = plt.subplots(figsize=(20,6))\n",
        "ax2.set_axis_off()\n",
        "table2 = ax2.table(\n",
        "    cellText = cell_text,\n",
        "    colLabels = col_labels,\n",
        "    colColours =[\"palegreen\"] * 3,\n",
        "    cellLoc ='center',\n",
        "    loc ='upper left',\n",
        ")\n",
        "table2.set_fontsize(18)\n",
        "table2.scale(1.5, 1.5)\n",
        "\n",
        "ax2.set_title('Most \"helpful\" training data',\n",
        "             fontweight =\"bold\")\n",
        "\n",
        "plt.show()"
      ],
      "execution_count": null,
      "outputs": [
        {
          "output_type": "display_data",
          "data": {
            "image/png": "[encoded data removed]",
            "text/plain": [
              "<Figure size 1440x432 with 1 Axes>"
            ]
          },
          "metadata": {
            "tags": [],
            "needs_background": "light"
          }
        }
      ]
    },
    {
      "cell_type": "code",
      "metadata": {
        "colab": {
          "base_uri": "https://localhost:8080/",
          "height": 215
        },
        "id": "DqGbiC6qQ8G_",
        "outputId": "5092d0f7-65c6-4de4-e7ac-c2ac3eafe773"
      },
      "source": [
        "sentences = [training_set[i]['question'] for i in not_helpful[:10]]\n",
        "labels = [training_set[i]['class'] for i in not_helpful[:10]]\n",
        "influence_scores = [influences[i] for i in not_helpful[:10]]\n",
        "cell_text = [[i, j, k] for i, j, k in zip(sentences, labels, influence_scores)]\n",
        "\n",
        "fig, ax = plt.subplots(figsize=(20,6))\n",
        "ax.set_axis_off()\n",
        "table = ax.table(\n",
        "    cellText = cell_text,\n",
        "    colLabels = col_labels,\n",
        "    colColours =[\"palegreen\"] * 3,\n",
        "    cellLoc ='center',\n",
        "    loc ='upper left',\n",
        ")\n",
        "table.set_fontsize(14)\n",
        "table.scale(1.5, 1.5)\n",
        "\n",
        "ax.set_title('Least \"helpful\" training data',\n",
        "             fontweight =\"bold\")\n",
        "\n",
        "plt.show()"
      ],
      "execution_count": null,
      "outputs": [
        {
          "output_type": "display_data",
          "data": {
            "image/png": "[encoded data removed]",
            "text/plain": [
              "<Figure size 1440x432 with 1 Axes>"
            ]
          },
          "metadata": {
            "tags": [],
            "needs_background": "light"
          }
        }
      ]
    },
    {
      "cell_type": "code",
      "metadata": {
        "id": "WW3MwTesswbd"
      },
      "source": [
        "comb_set = np.concatenate((train_sentences, [testing_sentences[idx]]))\n",
        "\n",
        "l2_dist = jnp.linalg.norm(testing_sentences[idx] - train_sentences, axis=1)\n",
        "tsne_plot_data = TSNE(n_components=2).fit_transform(comb_set)\n",
        "pca_plot_data = PCA(n_components=2).fit_transform(comb_set)"
      ],
      "execution_count": null,
      "outputs": []
    },
    {
      "cell_type": "code",
      "metadata": {
        "colab": {
          "base_uri": "https://localhost:8080/",
          "height": 529,
          "referenced_widgets": [
            "404c6873161b445295d4e381f2392871",
            "191b2c28401b474e9e94a96750260b7d",
            "21ddf37dbe1b4676a14beb1296f93b3f",
            "52ab191a880e4f02944d0725a91fc8bc",
            "5f34bfd25c7544e8a6732a1969ed824f",
            "f5fa37880d1544538722522bedd7d1dc",
            "0d0c5cec580548fb87b29b98ed939fa6"
          ]
        },
        "id": "BmDhJoVBrI_R",
        "outputId": "4519d19d-e9fa-44f8-a960-cfc22bca281a"
      },
      "source": [
        "graph_type = widgets.Dropdown(\n",
        "    options=['Influence', 'TSNE', 'PCA'],\n",
        "    value='Influence',\n",
        "    description='Plot:',\n",
        ")\n",
        "influences_np = np.array(influences)\n",
        "l2_dist_np = np.array(l2_dist)\n",
        "\n",
        "def draw_fn(graph_type):\n",
        "    plt.figure(figsize=(8, 8))\n",
        "    if graph_type == \"Influence\":\n",
        "        colors = 'r', 'g', 'b', 'c', 'm', 'y', 'k', 'gray', 'orange', 'purple', 'brown', 'pink'\n",
        "        for c, label in zip(colors, classes):\n",
        "            points = [i for i, v in enumerate(training_set) if v['class'] == label]\n",
        "            plt.scatter(l2_dist_np[points], influences_np[points], c=c, label=label)\n",
        "        plt.legend()\n",
        "        plt.xlabel('L2 distance')\n",
        "        plt.ylabel('Influence score')\n",
        "    elif graph_type == 'TSNE':\n",
        "        fig, ax = plt.subplots(figsize=(8, 8))\n",
        "        colors = 'r', 'g', 'b', 'c', 'm', 'y', 'k', 'gray', 'orange', 'purple', 'brown', 'pink'\n",
        "        for c, label in zip(colors, classes):\n",
        "            points = [i for i, v in enumerate(training_set) if v['class'] == label]\n",
        "            ax.scatter(tsne_plot_data[points, 0], tsne_plot_data[points, 1], c=c, label=label)\n",
        "        ax.annotate('Test point', (tsne_plot_data[-1, 0], tsne_plot_data[-1, 1]), backgroundcolor='w')\n",
        "        plt.legend()\n",
        "    elif graph_type == 'PCA':\n",
        "        fig, ax = plt.subplots(figsize=(8, 8))\n",
        "        colors = 'r', 'g', 'b', 'c', 'm', 'y', 'k', 'gray', 'orange', 'purple', 'brown', 'pink'\n",
        "        for c, label in zip(colors, classes):\n",
        "            points = [i for i, v in enumerate(training_set) if v['class'] == label]\n",
        "            ax.scatter(pca_plot_data[points, 0], pca_plot_data[points, 1], c=c, label=label)\n",
        "        ax.annotate('Test point', (pca_plot_data[-1, 0], pca_plot_data[-1, 1]), backgroundcolor='w')\n",
        "        plt.legend()\n",
        "    plt.show()\n",
        "\n",
        "interactive(draw_fn, graph_type=graph_type)"
      ],
      "execution_count": null,
      "outputs": [
        {
          "output_type": "display_data",
          "data": {
            "application/vnd.jupyter.widget-view+json": {
              "model_id": "404c6873161b445295d4e381f2392871",
              "version_minor": 0,
              "version_major": 2
            },
            "text/plain": [
              "interactive(children=(Dropdown(description='Plot:', options=('Influence', 'TSNE', 'PCA'), value='Influence'), …"
            ]
          },
          "metadata": {
            "tags": []
          }
        }
      ]
    },
    {
      "cell_type": "markdown",
      "metadata": {
        "id": "18UttbSeGy9d"
      },
      "source": [
        "# Remove unhelpful training data"
      ]
    },
    {
      "cell_type": "code",
      "metadata": {
        "id": "1JAt2yNaF-G9"
      },
      "source": [
        "new_training_set = [v for i, v in enumerate(training_set) if i not in not_helpful[:10]]\n",
        "\n",
        "new_training_dataset = SentenceDataset(new_training_set)\n",
        "new_training_generator = SentenceLoader(new_training_dataset, shuffle=True,\n",
        "                                        batch_size=batch_size, num_workers=0)"
      ],
      "execution_count": null,
      "outputs": []
    },
    {
      "cell_type": "code",
      "metadata": {
        "colab": {
          "base_uri": "https://localhost:8080/"
        },
        "id": "SfJgTd_4GZks",
        "outputId": "a0832b8a-85f6-4afc-f7e3-107bcd4441e3"
      },
      "source": [
        "new_params = params.copy()\n",
        "new_opt_state = opt_init(new_params)\n",
        "\n",
        "for epoch in range(5):\n",
        "    start_time = time.time()\n",
        "    for x, y in new_training_generator:\n",
        "        y = one_hot(y, n_targets)\n",
        "        new_params, new_opt_state = update(epoch, get_params(new_opt_state), x, y, new_opt_state)\n",
        "    epoch_time = time.time() - start_time\n",
        "\n",
        "    train_acc = accuracy(get_params(new_opt_state), train_sentences, train_labels)\n",
        "    print(\"Epoch {} in {:0.2f} sec\".format(epoch, epoch_time))\n",
        "    print(\"Training set accuracy {}\".format(train_acc))"
      ],
      "execution_count": null,
      "outputs": [
        {
          "output_type": "stream",
          "text": [
            "Epoch 0 in 3.49 sec\n",
            "Training set accuracy 0.9822311997413635\n",
            "Epoch 1 in 3.41 sec\n",
            "Training set accuracy 0.9887539148330688\n",
            "Epoch 2 in 3.38 sec\n",
            "Training set accuracy 0.9905532598495483\n",
            "Epoch 3 in 3.43 sec\n",
            "Training set accuracy 0.9914529323577881\n",
            "Epoch 4 in 3.42 sec\n",
            "Training set accuracy 0.9923526644706726\n"
          ],
          "name": "stdout"
        }
      ]
    },
    {
      "cell_type": "code",
      "metadata": {
        "colab": {
          "base_uri": "https://localhost:8080/"
        },
        "id": "Nb4vzbvdGh2w",
        "outputId": "d386a7bb-e2cd-4f47-c2d0-b21b4d993963"
      },
      "source": [
        "new_predicted_class = jnp.argmax(batched_predict(new_params, testing_sentences), axis=1)\n",
        "new_logprob = batched_predict(new_params, testing_sentences)\n",
        "new_pred_prob = jnp.exp(new_logprob)\n",
        "new_label_class = class_map[testing_set[testing_id]['class']]\n",
        "\n",
        "print(\"Sentence:\", testing_set[testing_id]['question'])\n",
        "print(\"True label:\", testing_set[testing_id]['class'])\n",
        "print(\"True label prob:\", new_pred_prob[testing_id][new_label_class])\n",
        "print(\"Predicted label:\", inv_class_map[int(new_predicted_class[testing_id])])\n",
        "print(\"Predicted prob:\", jnp.max(new_pred_prob[testing_id]))"
      ],
      "execution_count": null,
      "outputs": [
        {
          "output_type": "stream",
          "text": [
            "Sentence:  i would like the time of all flights from san francisco to pittsburgh on sunday\n",
            "True label: atis_flight_time\n",
            "True label prob: 0.8124418\n",
            "Predicted label: atis_flight_time\n",
            "Predicted prob: 0.8124418\n"
          ],
          "name": "stdout"
        }
      ]
    },
    {
      "cell_type": "code",
      "metadata": {
        "id": "fKJVstn8GtFK"
      },
      "source": [
        ""
      ],
      "execution_count": null,
      "outputs": []
    }
  ]
}